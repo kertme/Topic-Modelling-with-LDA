{
 "cells": [
  {
   "cell_type": "code",
   "execution_count": 96,
   "metadata": {},
   "outputs": [],
   "source": [
    "from sklearn.datasets import load_files\n",
    "import pandas as pd\n",
    "import spacy\n",
    "import re\n",
    "import numpy as np\n",
    "from pprint import pprint\n",
    "\n",
    "import gensim\n",
    "import gensim.corpora as corpora\n",
    "from gensim.utils import simple_preprocess\n",
    "\n",
    "import pyLDAvis\n",
    "import pyLDAvis.gensim\n",
    "import matplotlib.pyplot as plt\n",
    "%matplotlib inline\n",
    "\n",
    "import warnings\n",
    "warnings.filterwarnings(\"ignore\",category=DeprecationWarning)\n",
    "\n",
    "\n",
    "nlp = spacy.load(\"en_core_web_sm\", disable=['parser', 'ner'])\n",
    "\n",
    "random_state = 0\n",
    "\n",
    "DATA_DIR = \"./bbc/\"\n",
    "data = load_files(DATA_DIR, encoding=\"utf-8\", decode_error=\"replace\", random_state=random_state)\n",
    "df = pd.DataFrame(list(zip(data['data'], data['target'])), columns=['text', 'label'])"
   ]
  },
  {
   "cell_type": "code",
   "execution_count": 97,
   "metadata": {},
   "outputs": [
    {
     "name": "stderr",
     "output_type": "stream",
     "text": [
      "[nltk_data] Downloading package stopwords to\n",
      "[nltk_data]     C:\\Users\\thewa\\AppData\\Roaming\\nltk_data...\n",
      "[nltk_data]   Package stopwords is already up-to-date!\n"
     ]
    }
   ],
   "source": [
    "# NLTK Stop words\n",
    "from nltk.corpus import stopwords\n",
    "\n",
    "import nltk; nltk.download('stopwords')\n",
    "\n",
    "stop_words = stopwords.words('english')\n",
    "stop_words.extend(['from', 'subject', 're', 'edu'])\n",
    "\n"
   ]
  },
  {
   "cell_type": "code",
   "execution_count": 98,
   "metadata": {},
   "outputs": [
    {
     "name": "stdout",
     "output_type": "stream",
     "text": [
      "[['tate', 'lyle', 'boss', 'bags', 'top', 'award', 'tate', 'lyles', 'chief', 'executive', 'has', 'been', 'named', 'european', 'businessman', 'of', 'the', 'year', 'by', 'leading', 'business', 'magazine', 'iain', 'ferguson', 'was', 'awarded', 'the', 'title', 'by', 'us', 'publication', 'forbes', 'for', 'returning', 'one', 'of', 'the', 'uks', 'venerable', 'manufacturers', 'to', 'the', 'countrys', 'top', 'companies', 'the', 'sugar', 'group', 'had', 'been', 'absent', 'from', 'the', 'ftse', 'for', 'seven', 'years', 'until', 'mr', 'ferguson', 'helped', 'it', 'return', 'to', 'growth', 'tates', 'shares', 'have', 'leapt', 'this', 'year', 'boosted', 'by', 'firming', 'sugar', 'prices', 'and', 'sales', 'of', 'its', 'artificial', 'sweeteners', 'after', 'years', 'of', 'sagging', 'stock', 'price', 'and', 'seven', 'year', 'hiatus', 'from', 'the', 'ftse', 'one', 'of', 'britains', 'venerable', 'manufacturers', 'has', 'returned', 'to', 'the', 'vaunted', 'index', 'forbes', 'said', 'mr', 'ferguson', 'took', 'the', 'helm', 'at', 'the', 'company', 'in', 'after', 'spending', 'most', 'of', 'his', 'career', 'at', 'consumer', 'goods', 'giant', 'unilever', 'tate', 'lyle', 'which', 'was', 'an', 'original', 'member', 'of', 'the', 'historic', 'ft', 'index', 'in', 'operates', 'more', 'than', 'factories', 'and', 'more', 'additional', 'production', 'facilities', 'in', 'countries', 'previous', 'winners', 'of', 'the', 'forbes', 'award', 'include', 'royal', 'bank', 'of', 'scotland', 'chief', 'executive', 'fred', 'goodwin', 'and', 'former', 'vodafone', 'boss', 'chris', 'gent']]\n"
     ]
    }
   ],
   "source": [
    "# Convert to list\n",
    "data = df.text.values.tolist()\n",
    "# Remove new line characters\n",
    "data = [re.sub('\\s+', ' ', sent) for sent in data]\n",
    "\n",
    "# Remove distracting single quotes\n",
    "data = [re.sub(\"\\'\", \"\", sent) for sent in data]\n",
    "\n",
    "def sent_to_words(sentences):\n",
    "    for sentence in sentences:\n",
    "        yield(gensim.utils.simple_preprocess(str(sentence), deacc=True))  # deacc=True removes punctuations\n",
    "\n",
    "data_words = list(sent_to_words(data))\n",
    "\n",
    "print(data_words[:1])\n"
   ]
  },
  {
   "cell_type": "code",
   "execution_count": 99,
   "metadata": {},
   "outputs": [],
   "source": [
    "# Build the bigram model\n",
    "bigram = gensim.models.Phrases(data_words, min_count=5, threshold=100) # higher threshold fewer phrases.\n",
    "#trigram = gensim.models.Phrases(bigram[data_words], threshold=100)  \n",
    "\n",
    "# Faster way to get a sentence clubbed as a bigram\n",
    "bigram_mod = gensim.models.phrases.Phraser(bigram)\n",
    "#trigram_mod = gensim.models.phrases.Phraser(trigram)"
   ]
  },
  {
   "cell_type": "code",
   "execution_count": 100,
   "metadata": {},
   "outputs": [],
   "source": [
    "# See trigram example\n",
    "# print(trigram_mod[bigram_mod[data_words[0]]])"
   ]
  },
  {
   "cell_type": "code",
   "execution_count": 101,
   "metadata": {},
   "outputs": [
    {
     "name": "stdout",
     "output_type": "stream",
     "text": [
      "['tate', 'lyle', 'boss', 'bags', 'top', 'award', 'tate', 'lyles', 'chief_executive', 'has', 'been', 'named', 'european', 'businessman', 'of', 'the', 'year', 'by', 'leading', 'business', 'magazine', 'iain', 'ferguson', 'was', 'awarded', 'the', 'title', 'by', 'us', 'publication', 'forbes', 'for', 'returning', 'one', 'of', 'the', 'uks', 'venerable', 'manufacturers', 'to', 'the', 'countrys', 'top', 'companies', 'the', 'sugar', 'group', 'had', 'been', 'absent', 'from', 'the', 'ftse', 'for', 'seven', 'years', 'until', 'mr', 'ferguson', 'helped', 'it', 'return', 'to', 'growth', 'tates', 'shares', 'have', 'leapt', 'this', 'year', 'boosted', 'by', 'firming', 'sugar', 'prices', 'and', 'sales', 'of', 'its', 'artificial', 'sweeteners', 'after', 'years', 'of', 'sagging', 'stock', 'price', 'and', 'seven', 'year', 'hiatus', 'from', 'the', 'ftse', 'one', 'of', 'britains', 'venerable', 'manufacturers', 'has', 'returned', 'to', 'the', 'vaunted', 'index', 'forbes', 'said', 'mr', 'ferguson', 'took', 'the', 'helm', 'at', 'the', 'company', 'in', 'after', 'spending', 'most', 'of', 'his', 'career', 'at', 'consumer', 'goods', 'giant', 'unilever', 'tate', 'lyle', 'which', 'was', 'an', 'original', 'member', 'of', 'the', 'historic', 'ft', 'index', 'in', 'operates', 'more', 'than', 'factories', 'and', 'more', 'additional', 'production', 'facilities', 'in', 'countries', 'previous', 'winners', 'of', 'the', 'forbes', 'award', 'include', 'royal', 'bank', 'of', 'scotland', 'chief_executive', 'fred', 'goodwin', 'and', 'former', 'vodafone', 'boss', 'chris', 'gent']\n"
     ]
    }
   ],
   "source": [
    "print(bigram_mod[data_words[0]])"
   ]
  },
  {
   "cell_type": "code",
   "execution_count": 102,
   "metadata": {},
   "outputs": [],
   "source": [
    "# Define functions for stopwords, bigrams, trigrams and lemmatization\n",
    "# from nltk.stem.porter import *\n",
    "# p_stemmer = PorterStemmer()\n",
    "\n",
    "def remove_stopwords(texts):\n",
    "    #return [[word for word in simple_preprocess(str(doc)) if word not in stop_words] for doc in texts]\n",
    "    return [[word for word in doc if word not in stop_words] for doc in texts]\n",
    "\n",
    "def make_bigrams(texts):\n",
    "    return [bigram_mod[doc] for doc in texts]\n",
    "\n",
    "# def make_trigrams(texts):\n",
    "#     return [trigram_mod[bigram_mod[doc]] for doc in texts]\n",
    "\n",
    "def lemmatization(texts, allowed_postags=['NOUN', 'ADJ', 'VERB', 'ADV']):\n",
    "    \"\"\"https://spacy.io/api/annotation\"\"\"\n",
    "    texts_out = []\n",
    "    for sent in texts:\n",
    "        doc = nlp(\" \".join(sent))\n",
    "        texts_out.append([token.lemma_ for token in doc if token.pos_ in allowed_postags])\n",
    "        #texts_out.append([p_stemmer.stem(token.lemma_) for token in doc if token.pos_ in allowed_postags])\n",
    "    return texts_out"
   ]
  },
  {
   "cell_type": "code",
   "execution_count": 103,
   "metadata": {
    "scrolled": true
   },
   "outputs": [],
   "source": [
    "# Remove Stop Words\n",
    "data_words_nostops = remove_stopwords(data_words)\n",
    "\n",
    "# Form Bigrams\n",
    "data_words_bigrams = make_bigrams(data_words_nostops)\n",
    "#data_words_bigrams = make_trigrams(data_words_nostops)\n",
    "\n",
    "# Do lemmatization keeping only noun, adj, vb, adv\n",
    "data_lemmatized = lemmatization(data_words_bigrams, allowed_postags=['NOUN', 'ADJ', 'VERB', 'ADV'])"
   ]
  },
  {
   "cell_type": "code",
   "execution_count": 104,
   "metadata": {},
   "outputs": [
    {
     "name": "stdout",
     "output_type": "stream",
     "text": [
      "[['top', 'award', 'name', 'award', 'title', 'publication', 'forbe', 'return', 'uks', 'venerable', 'manufacturer', 'countrys', 'top', 'company', 'sugar', 'year', 'help', 'return', 'growth', 'tate', 'share', 'year', 'boost', 'firm', 'sugar', 'price', 'sale', 'artificial', 'sweetener', 'year', 'sag', 'stock', 'price', 'year', 'britain', 'venerable', 'manufacturer', 'return', 'vaunted', 'index', 'forbe', 'say', 'take', 'company', 'spend', 'career', 'consumer', 'good', 'original', 'member', 'index', 'operate', 'factory', 'additional', 'production', 'facility', 'country', 'previous', 'winner', 'include', 'fre', 'former']]\n"
     ]
    }
   ],
   "source": [
    "print(data_lemmatized[:1])"
   ]
  },
  {
   "cell_type": "code",
   "execution_count": 105,
   "metadata": {},
   "outputs": [
    {
     "name": "stdout",
     "output_type": "stream",
     "text": [
      "[[(0, 1), (1, 1), (2, 2), (3, 1), (4, 1), (5, 1), (6, 2), (7, 1), (8, 1), (9, 1), (10, 1), (11, 1), (12, 1), (13, 2), (14, 1), (15, 1), (16, 1), (17, 1), (18, 1), (19, 1), (20, 2), (21, 2), (22, 1), (23, 1), (24, 1), (25, 1), (26, 1), (27, 2), (28, 1), (29, 1), (30, 3), (31, 1), (32, 1), (33, 1), (34, 1), (35, 1), (36, 1), (37, 2), (38, 1), (39, 1), (40, 1), (41, 1), (42, 2), (43, 1), (44, 1), (45, 2), (46, 1), (47, 4)]]\n"
     ]
    }
   ],
   "source": [
    "# Create Dictionary\n",
    "id2word = corpora.Dictionary(data_lemmatized)\n",
    "\n",
    "texts = data_lemmatized\n",
    "\n",
    "# Term Document Frequency\n",
    "corpus = [id2word.doc2bow(text) for text in texts]\n",
    "\n",
    "# View\n",
    "print(corpus[:1])"
   ]
  },
  {
   "cell_type": "code",
   "execution_count": 106,
   "metadata": {
    "scrolled": true
   },
   "outputs": [
    {
     "data": {
      "text/plain": [
       "[[('additional', 1),\n",
       "  ('artificial', 1),\n",
       "  ('award', 2),\n",
       "  ('boost', 1),\n",
       "  ('britain', 1),\n",
       "  ('career', 1),\n",
       "  ('company', 2),\n",
       "  ('consumer', 1),\n",
       "  ('country', 1),\n",
       "  ('countrys', 1),\n",
       "  ('facility', 1),\n",
       "  ('factory', 1),\n",
       "  ('firm', 1),\n",
       "  ('forbe', 2),\n",
       "  ('former', 1),\n",
       "  ('fre', 1),\n",
       "  ('good', 1),\n",
       "  ('growth', 1),\n",
       "  ('help', 1),\n",
       "  ('include', 1),\n",
       "  ('index', 2),\n",
       "  ('manufacturer', 2),\n",
       "  ('member', 1),\n",
       "  ('name', 1),\n",
       "  ('operate', 1),\n",
       "  ('original', 1),\n",
       "  ('previous', 1),\n",
       "  ('price', 2),\n",
       "  ('production', 1),\n",
       "  ('publication', 1),\n",
       "  ('return', 3),\n",
       "  ('sag', 1),\n",
       "  ('sale', 1),\n",
       "  ('say', 1),\n",
       "  ('share', 1),\n",
       "  ('spend', 1),\n",
       "  ('stock', 1),\n",
       "  ('sugar', 2),\n",
       "  ('sweetener', 1),\n",
       "  ('take', 1),\n",
       "  ('tate', 1),\n",
       "  ('title', 1),\n",
       "  ('top', 2),\n",
       "  ('uks', 1),\n",
       "  ('vaunted', 1),\n",
       "  ('venerable', 2),\n",
       "  ('winner', 1),\n",
       "  ('year', 4)]]"
      ]
     },
     "execution_count": 106,
     "metadata": {},
     "output_type": "execute_result"
    }
   ],
   "source": [
    "[[(id2word[id], freq) for id, freq in cp] for cp in corpus[:1]]"
   ]
  },
  {
   "cell_type": "code",
   "execution_count": 107,
   "metadata": {},
   "outputs": [],
   "source": [
    "# Build LDA model\n",
    "lda_model = gensim.models.ldamodel.LdaModel(corpus=corpus,\n",
    "                                           id2word=id2word,\n",
    "                                           num_topics=10, \n",
    "                                           random_state=100,\n",
    "                                           update_every=1,\n",
    "                                           chunksize=50,\n",
    "                                           passes=50,\n",
    "                                           alpha='auto',\n",
    "                                           per_word_topics=True)"
   ]
  },
  {
   "cell_type": "code",
   "execution_count": 110,
   "metadata": {},
   "outputs": [],
   "source": [
    "lda_model = gensim.models.ldamodel.LdaModel.load('lda.model')"
   ]
  },
  {
   "cell_type": "code",
   "execution_count": 108,
   "metadata": {
    "scrolled": false
   },
   "outputs": [
    {
     "name": "stdout",
     "output_type": "stream",
     "text": [
      "[(0,\n",
      "  '0.031*\"year\" + 0.022*\"say\" + 0.015*\"rise\" + 0.014*\"sale\" + 0.012*\"market\" + '\n",
      "  '0.012*\"month\" + 0.011*\"fall\" + 0.011*\"last\" + 0.011*\"economy\" + '\n",
      "  '0.011*\"figure\"'),\n",
      " (1,\n",
      "  '0.014*\"go\" + 0.013*\"play\" + 0.012*\"game\" + 0.012*\"time\" + 0.011*\"win\" + '\n",
      "  '0.011*\"take\" + 0.010*\"first\" + 0.010*\"say\" + 0.010*\"good\" + 0.009*\"come\"'),\n",
      " (2,\n",
      "  '0.041*\"say\" + 0.025*\"people\" + 0.016*\"make\" + 0.014*\"work\" + 0.012*\"also\" + '\n",
      "  '0.011*\"many\" + 0.011*\"new\" + 0.009*\"help\" + 0.009*\"would\" + 0.009*\"call\"'),\n",
      " (3,\n",
      "  '0.031*\"film\" + 0.019*\"good\" + 0.017*\"year\" + 0.016*\"show\" + 0.016*\"include\" '\n",
      "  '+ 0.015*\"music\" + 0.013*\"also\" + 0.010*\"top\" + 0.010*\"number\" + '\n",
      "  '0.010*\"match\"'),\n",
      " (4,\n",
      "  '0.049*\"firm\" + 0.035*\"company\" + 0.021*\"deal\" + 0.017*\"share\" + '\n",
      "  '0.016*\"foreign\" + 0.016*\"financial\" + 0.016*\"account\" + 0.015*\"aid\" + '\n",
      "  '0.015*\"bank\" + 0.014*\"investor\"'),\n",
      " (5,\n",
      "  '0.023*\"company\" + 0.018*\"case\" + 0.017*\"file\" + 0.016*\"court\" + '\n",
      "  '0.015*\"charge\" + 0.013*\"firm\" + 0.012*\"fraud\" + 0.011*\"legal\" + 0.009*\"buy\" '\n",
      "  '+ 0.009*\"drug\"'),\n",
      " (6,\n",
      "  '0.045*\"respond\" + 0.043*\"finish\" + 0.031*\"fake\" + 0.027*\"fine\" + '\n",
      "  '0.025*\"regulation\" + 0.017*\"hotel\" + 0.015*\"celebrity\" + 0.015*\"fix\" + '\n",
      "  '0.013*\"iaaf\" + 0.012*\"famous\"'),\n",
      " (7,\n",
      "  '0.084*\"say\" + 0.032*\"would\" + 0.017*\"government\" + 0.012*\"could\" + '\n",
      "  '0.011*\"tell\" + 0.009*\"plan\" + 0.008*\"country\" + 0.007*\"make\" + 0.007*\"also\" '\n",
      "  '+ 0.007*\"public\"'),\n",
      " (8,\n",
      "  '0.032*\"use\" + 0.022*\"technology\" + 0.018*\"user\" + 0.016*\"site\" + '\n",
      "  '0.016*\"computer\" + 0.013*\"net\" + 0.011*\"game\" + 0.011*\"online\" + '\n",
      "  '0.011*\"software\" + 0.010*\"network\"'),\n",
      " (9,\n",
      "  '0.023*\"election\" + 0.021*\"labour\" + 0.020*\"party\" + 0.017*\"tory\" + '\n",
      "  '0.012*\"campaign\" + 0.011*\"people\" + 0.011*\"virus\" + 0.010*\"vote\" + '\n",
      "  '0.010*\"child\" + 0.010*\"attack\"')]\n"
     ]
    }
   ],
   "source": [
    "pprint(lda_model.print_topics())\n",
    "#doc_lda = lda_model[corpus]"
   ]
  },
  {
   "cell_type": "markdown",
   "metadata": {},
   "source": [
    "0:business\n",
    "1:entertainment\n",
    "2:politics\n",
    "3:sport\n",
    "4:tech"
   ]
  },
  {
   "cell_type": "code",
   "execution_count": 90,
   "metadata": {},
   "outputs": [],
   "source": [
    "label_dic = {\n",
    "    0:0,\n",
    "    1:3,\n",
    "    2:2,\n",
    "    3:1,\n",
    "    4:4\n",
    "}"
   ]
  },
  {
   "cell_type": "code",
   "execution_count": 404,
   "metadata": {
    "collapsed": true
   },
   "outputs": [
    {
     "name": "stderr",
     "output_type": "stream",
     "text": [
      "<ipython-input-404-163e87bc360d>:2: VisibleDeprecationWarning: Creating an ndarray from ragged nested sequences (which is a list-or-tuple of lists-or-tuples-or ndarrays with different lengths or shapes) is deprecated. If you meant to do this, you must specify 'dtype=object' when creating the ndarray\n",
      "  x = np.array(x)\n"
     ]
    },
    {
     "data": {
      "text/plain": [
       "(2225,)"
      ]
     },
     "execution_count": 404,
     "metadata": {},
     "output_type": "execute_result"
    }
   ],
   "source": [
    "# x = lda_model.get_document_topics(corpus)\n",
    "# x = np.array(x)\n",
    "# x.shape"
   ]
  },
  {
   "cell_type": "code",
   "execution_count": 80,
   "metadata": {},
   "outputs": [
    {
     "data": {
      "text/plain": [
       "[(0, 0.62965584), (1, 0.023978624), (2, 0.0544572), (3, 0.2884717)]"
      ]
     },
     "execution_count": 80,
     "metadata": {},
     "output_type": "execute_result"
    }
   ],
   "source": [
    "list(lda_model[corpus[:1]][0][0])"
   ]
  },
  {
   "cell_type": "code",
   "execution_count": 91,
   "metadata": {},
   "outputs": [
    {
     "data": {
      "text/html": [
       "<div>\n",
       "<style scoped>\n",
       "    .dataframe tbody tr th:only-of-type {\n",
       "        vertical-align: middle;\n",
       "    }\n",
       "\n",
       "    .dataframe tbody tr th {\n",
       "        vertical-align: top;\n",
       "    }\n",
       "\n",
       "    .dataframe thead th {\n",
       "        text-align: right;\n",
       "    }\n",
       "</style>\n",
       "<table border=\"1\" class=\"dataframe\">\n",
       "  <thead>\n",
       "    <tr style=\"text-align: right;\">\n",
       "      <th></th>\n",
       "      <th>Document_No</th>\n",
       "      <th>Dominant_Topic</th>\n",
       "      <th>Dominant_Topic_Label</th>\n",
       "      <th>Topic_Perc_Contrib</th>\n",
       "      <th>Keywords</th>\n",
       "      <th>Text</th>\n",
       "    </tr>\n",
       "  </thead>\n",
       "  <tbody>\n",
       "    <tr>\n",
       "      <th>0</th>\n",
       "      <td>0</td>\n",
       "      <td>0.0</td>\n",
       "      <td>business</td>\n",
       "      <td>0.6297</td>\n",
       "      <td>say, year, company, firm, rise, sale, last, ma...</td>\n",
       "      <td>Tate &amp; Lyle boss bags top award Tate &amp; Lyles c...</td>\n",
       "    </tr>\n",
       "    <tr>\n",
       "      <th>1</th>\n",
       "      <td>1</td>\n",
       "      <td>1.0</td>\n",
       "      <td>sport</td>\n",
       "      <td>0.4212</td>\n",
       "      <td>say, game, go, play, time, take, win, first, m...</td>\n",
       "      <td>Halo 2 sells five million copies Microsoft is ...</td>\n",
       "    </tr>\n",
       "    <tr>\n",
       "      <th>2</th>\n",
       "      <td>2</td>\n",
       "      <td>2.0</td>\n",
       "      <td>politics</td>\n",
       "      <td>0.4124</td>\n",
       "      <td>say, would, government, people, could, plan, m...</td>\n",
       "      <td>MSPs hear renewed climate warning Climate chan...</td>\n",
       "    </tr>\n",
       "    <tr>\n",
       "      <th>3</th>\n",
       "      <td>3</td>\n",
       "      <td>1.0</td>\n",
       "      <td>sport</td>\n",
       "      <td>0.9389</td>\n",
       "      <td>say, game, go, play, time, take, win, first, m...</td>\n",
       "      <td>Pavey focuses on indoor success Jo Pavey will ...</td>\n",
       "    </tr>\n",
       "    <tr>\n",
       "      <th>4</th>\n",
       "      <td>4</td>\n",
       "      <td>2.0</td>\n",
       "      <td>politics</td>\n",
       "      <td>0.9424</td>\n",
       "      <td>say, would, government, people, could, plan, m...</td>\n",
       "      <td>Tories reject rethink on axed MP Sacked MP How...</td>\n",
       "    </tr>\n",
       "    <tr>\n",
       "      <th>5</th>\n",
       "      <td>5</td>\n",
       "      <td>2.0</td>\n",
       "      <td>politics</td>\n",
       "      <td>0.7891</td>\n",
       "      <td>say, would, government, people, could, plan, m...</td>\n",
       "      <td>Lib Dems predict best ever poll The Lib Dems a...</td>\n",
       "    </tr>\n",
       "    <tr>\n",
       "      <th>6</th>\n",
       "      <td>6</td>\n",
       "      <td>2.0</td>\n",
       "      <td>politics</td>\n",
       "      <td>0.8260</td>\n",
       "      <td>say, would, government, people, could, plan, m...</td>\n",
       "      <td>Howard attacks pay later Budget Tory leader Mi...</td>\n",
       "    </tr>\n",
       "    <tr>\n",
       "      <th>7</th>\n",
       "      <td>7</td>\n",
       "      <td>4.0</td>\n",
       "      <td>tech</td>\n",
       "      <td>0.7563</td>\n",
       "      <td>say, use, people, technology, user, site, comp...</td>\n",
       "      <td>Games win for Blu-ray DVD format The next-gene...</td>\n",
       "    </tr>\n",
       "    <tr>\n",
       "      <th>8</th>\n",
       "      <td>8</td>\n",
       "      <td>2.0</td>\n",
       "      <td>politics</td>\n",
       "      <td>0.7878</td>\n",
       "      <td>say, would, government, people, could, plan, m...</td>\n",
       "      <td>Labour pig poster anti-Semitic The Labour Part...</td>\n",
       "    </tr>\n",
       "    <tr>\n",
       "      <th>9</th>\n",
       "      <td>9</td>\n",
       "      <td>1.0</td>\n",
       "      <td>sport</td>\n",
       "      <td>0.6570</td>\n",
       "      <td>say, game, go, play, time, take, win, first, m...</td>\n",
       "      <td>Costin aims for comeback in 2006 Jamie Costin ...</td>\n",
       "    </tr>\n",
       "  </tbody>\n",
       "</table>\n",
       "</div>"
      ],
      "text/plain": [
       "   Document_No  Dominant_Topic Dominant_Topic_Label  Topic_Perc_Contrib  \\\n",
       "0            0             0.0             business              0.6297   \n",
       "1            1             1.0                sport              0.4212   \n",
       "2            2             2.0             politics              0.4124   \n",
       "3            3             1.0                sport              0.9389   \n",
       "4            4             2.0             politics              0.9424   \n",
       "5            5             2.0             politics              0.7891   \n",
       "6            6             2.0             politics              0.8260   \n",
       "7            7             4.0                 tech              0.7563   \n",
       "8            8             2.0             politics              0.7878   \n",
       "9            9             1.0                sport              0.6570   \n",
       "\n",
       "                                            Keywords  \\\n",
       "0  say, year, company, firm, rise, sale, last, ma...   \n",
       "1  say, game, go, play, time, take, win, first, m...   \n",
       "2  say, would, government, people, could, plan, m...   \n",
       "3  say, game, go, play, time, take, win, first, m...   \n",
       "4  say, would, government, people, could, plan, m...   \n",
       "5  say, would, government, people, could, plan, m...   \n",
       "6  say, would, government, people, could, plan, m...   \n",
       "7  say, use, people, technology, user, site, comp...   \n",
       "8  say, would, government, people, could, plan, m...   \n",
       "9  say, game, go, play, time, take, win, first, m...   \n",
       "\n",
       "                                                Text  \n",
       "0  Tate & Lyle boss bags top award Tate & Lyles c...  \n",
       "1  Halo 2 sells five million copies Microsoft is ...  \n",
       "2  MSPs hear renewed climate warning Climate chan...  \n",
       "3  Pavey focuses on indoor success Jo Pavey will ...  \n",
       "4  Tories reject rethink on axed MP Sacked MP How...  \n",
       "5  Lib Dems predict best ever poll The Lib Dems a...  \n",
       "6  Howard attacks pay later Budget Tory leader Mi...  \n",
       "7  Games win for Blu-ray DVD format The next-gene...  \n",
       "8  Labour pig poster anti-Semitic The Labour Part...  \n",
       "9  Costin aims for comeback in 2006 Jamie Costin ...  "
      ]
     },
     "execution_count": 91,
     "metadata": {},
     "output_type": "execute_result"
    }
   ],
   "source": [
    "def format_topics_sentences(ldamodel=lda_model, corpus=corpus, texts=data):\n",
    "    # Init output\n",
    "    sent_topics_df = pd.DataFrame()\n",
    "    topic_dic = {0:'business',\n",
    "                1:'sport',\n",
    "                2:'politics',\n",
    "                3:'entertainment',\n",
    "                4:'tech'}\n",
    "    \n",
    "    \n",
    "    # Get main topic in each document\n",
    "    for i, row in enumerate(ldamodel[corpus]):\n",
    "        row = row[0]\n",
    "        row = sorted(row, key=(lambda x: (x[1])), reverse=True)\n",
    "        # Get the Dominant topic, Perc Contribution and Keywords for each document\n",
    "        for j, (topic_num, prop_topic) in enumerate(row):\n",
    "            if j == 0:  # => dominant topic\n",
    "                wp = ldamodel.show_topic(topic_num)\n",
    "                topic_keywords = \", \".join([word for word, prop in wp])\n",
    "                sent_topics_df = sent_topics_df.append(pd.Series([int(topic_num), topic_dic[int(topic_num)], round(prop_topic,4), topic_keywords]), ignore_index=True)\n",
    "            else:\n",
    "                break\n",
    "    sent_topics_df.columns = ['Dominant_Topic', 'Dominant_Topic_Label', 'Perc_Contribution', 'Topic_Keywords']\n",
    "\n",
    "    # Add original text to the end of the output\n",
    "    contents = pd.Series(texts)\n",
    "    sent_topics_df = pd.concat([sent_topics_df, contents], axis=1)\n",
    "    return(sent_topics_df)\n",
    "\n",
    "\n",
    "df_topic_sents_keywords = format_topics_sentences(ldamodel=lda_model, corpus=corpus, texts=data)\n",
    "\n",
    "# Format\n",
    "df_dominant_topic = df_topic_sents_keywords.reset_index()\n",
    "df_dominant_topic.columns = ['Document_No', 'Dominant_Topic','Dominant_Topic_Label', 'Topic_Perc_Contrib', 'Keywords', 'Text']\n",
    "\n",
    "# Show\n",
    "df_dominant_topic.head(10)"
   ]
  },
  {
   "cell_type": "code",
   "execution_count": 85,
   "metadata": {},
   "outputs": [
    {
     "name": "stdout",
     "output_type": "stream",
     "text": [
      "acc:90.47191011235955\n"
     ]
    }
   ],
   "source": [
    "predictions2 = df_dominant_topic.Dominant_Topic.tolist()\n",
    "count = 0\n",
    "dt = df['label'].tolist()\n",
    "for index, i in enumerate(predictions2):\n",
    "    if i == label_dic[dt[index]]:\n",
    "        count +=1\n",
    "\n",
    "print(f'acc:{100*(count/len(predictions2))}')\n"
   ]
  },
  {
   "cell_type": "code",
   "execution_count": 76,
   "metadata": {},
   "outputs": [],
   "source": [
    "#lda_model.save('lda.model')"
   ]
  },
  {
   "cell_type": "code",
   "execution_count": 111,
   "metadata": {},
   "outputs": [
    {
     "data": {
      "text/html": [
       "\n",
       "<link rel=\"stylesheet\" type=\"text/css\" href=\"https://cdn.rawgit.com/bmabey/pyLDAvis/files/ldavis.v1.0.0.css\">\n",
       "\n",
       "\n",
       "<div id=\"ldavis_el2966016541895788321857346934\"></div>\n",
       "<script type=\"text/javascript\">\n",
       "\n",
       "var ldavis_el2966016541895788321857346934_data = {\"mdsDat\": {\"x\": [0.12541196735993196, -0.054511300938889055, 0.07755869783402745, 0.1178714760006925, -0.26633084025576265], \"y\": [0.1498242440248696, 0.144408468274938, -0.03968085012239141, -0.1968631442517595, -0.057688717925656455], \"topics\": [1, 2, 3, 4, 5], \"cluster\": [1, 1, 1, 1, 1], \"Freq\": [28.93282127380371, 22.339080810546875, 18.28533172607422, 18.170413970947266, 12.272348403930664]}, \"tinfo\": {\"Term\": [\"film\", \"use\", \"good\", \"company\", \"year\", \"people\", \"technology\", \"music\", \"game\", \"firm\", \"government\", \"rise\", \"user\", \"play\", \"award\", \"site\", \"computer\", \"include\", \"win\", \"would\", \"market\", \"player\", \"election\", \"share\", \"sale\", \"economy\", \"show\", \"labour\", \"growth\", \"party\", \"election\", \"labour\", \"party\", \"tory\", \"law\", \"policy\", \"legal\", \"minister\", \"community\", \"aid\", \"argue\", \"police\", \"conservative\", \"accuse\", \"debate\", \"private\", \"trust\", \"reform\", \"proposal\", \"political\", \"crime\", \"education\", \"scheme\", \"health\", \"immigration\", \"illegal\", \"politic\", \"parliament\", \"urge\", \"seat\", \"case\", \"public\", \"issue\", \"government\", \"spokesman\", \"bill\", \"campaign\", \"local\", \"plan\", \"would\", \"question\", \"claim\", \"tell\", \"say\", \"court\", \"rule\", \"country\", \"people\", \"could\", \"change\", \"child\", \"call\", \"need\", \"decision\", \"make\", \"also\", \"believe\", \"work\", \"go\", \"new\", \"want\", \"take\", \"give\", \"use\", \"side\", \"match\", \"team\", \"season\", \"race\", \"club\", \"minute\", \"score\", \"victory\", \"injury\", \"goal\", \"finish\", \"coach\", \"sport\", \"athlete\", \"rugby\", \"premiership\", \"football\", \"lion\", \"tie\", \"spanish\", \"kick\", \"defeat\", \"round\", \"front\", \"championship\", \"gold\", \"penalty\", \"ball\", \"tournament\", \"chance\", \"final\", \"miss\", \"play\", \"win\", \"be\", \"game\", \"title\", \"break\", \"have\", \"player\", \"happen\", \"s\", \"feel\", \"second\", \"manager\", \"back\", \"first\", \"go\", \"time\", \"get\", \"set\", \"think\", \"take\", \"come\", \"well\", \"good\", \"say\", \"make\", \"look\", \"last\", \"world\", \"start\", \"year\", \"give\", \"would\", \"technology\", \"user\", \"computer\", \"site\", \"network\", \"software\", \"online\", \"phone\", \"web\", \"search\", \"device\", \"virus\", \"pc\", \"image\", \"download\", \"mobile\", \"content\", \"machine\", \"broadband\", \"digital\", \"program\", \"apple\", \"map\", \"gadget\", \"blog\", \"connection\", \"tool\", \"window\", \"wireless\", \"domain\", \"internet\", \"website\", \"net\", \"mail\", \"use\", \"information\", \"video\", \"people\", \"system\", \"service\", \"file\", \"say\", \"music\", \"new\", \"many\", \"firm\", \"make\", \"way\", \"could\", \"find\", \"company\", \"also\", \"work\", \"game\", \"rise\", \"growth\", \"profit\", \"oil\", \"dollar\", \"fraud\", \"bank\", \"financial\", \"investment\", \"debt\", \"shareholder\", \"annual\", \"airline\", \"investor\", \"export\", \"trading\", \"sector\", \"fuel\", \"recovery\", \"auction\", \"forecast\", \"loan\", \"payment\", \"takeover\", \"economist\", \"indian\", \"employee\", \"ebber\", \"inflation\", \"earning\", \"economy\", \"stake\", \"share\", \"rate\", \"fall\", \"price\", \"sale\", \"analyst\", \"economic\", \"company\", \"business\", \"firm\", \"market\", \"figure\", \"buy\", \"year\", \"low\", \"increase\", \"month\", \"expect\", \"deal\", \"however\", \"say\", \"report\", \"last\", \"also\", \"job\", \"high\", \"new\", \"big\", \"award\", \"artist\", \"singer\", \"actor\", \"nomination\", \"category\", \"urban\", \"comedy\", \"chart\", \"band\", \"musical\", \"rap\", \"ceremony\", \"album\", \"die\", \"prize\", \"night\", \"death\", \"nominate\", \"actress\", \"baby\", \"donation\", \"drama\", \"scene\", \"nominee\", \"pop\", \"dance\", \"relief\", \"documentary\", \"rock\", \"film\", \"star\", \"song\", \"director\", \"include\", \"original\", \"music\", \"good\", \"release\", \"show\", \"movie\", \"top\", \"year\", \"also\", \"single\", \"woman\", \"number\", \"name\", \"take\", \"make\", \"say\", \"record\", \"first\", \"hit\", \"last\", \"new\", \"go\", \"see\"], \"Freq\": [1031.0, 1455.0, 1332.0, 1109.0, 2409.0, 1892.0, 652.0, 802.0, 1094.0, 995.0, 1156.0, 573.0, 529.0, 928.0, 389.0, 481.0, 480.0, 787.0, 705.0, 2557.0, 649.0, 737.0, 553.0, 486.0, 575.0, 413.0, 1022.0, 494.0, 352.0, 478.0, 552.665771484375, 493.2457275390625, 477.8326721191406, 409.0365905761719, 366.026123046875, 273.2638244628906, 230.66188049316406, 204.3597869873047, 202.44247436523438, 196.848876953125, 187.73146057128906, 185.66720581054688, 176.0308074951172, 175.21792602539062, 161.9320526123047, 161.34335327148438, 146.88568115234375, 144.7427520751953, 138.09060668945312, 138.14434814453125, 136.36141967773438, 127.69630432128906, 124.82318878173828, 125.07853698730469, 117.26300048828125, 118.31687927246094, 114.93811798095703, 110.2402114868164, 109.72145080566406, 111.6588363647461, 394.489013671875, 539.0210571289062, 495.9275817871094, 1033.789306640625, 315.6283874511719, 222.5677947998047, 263.3838806152344, 213.91143798828125, 608.1176147460938, 1750.3690185546875, 218.2921905517578, 463.9328918457031, 551.840576171875, 4604.70751953125, 264.73577880859375, 296.3628845214844, 422.9442443847656, 919.8238525390625, 685.0872802734375, 328.4459533691406, 252.80670166015625, 369.80255126953125, 389.9483337402344, 272.2490234375, 561.034912109375, 540.4678955078125, 301.0815734863281, 372.7568359375, 467.931884765625, 435.1271667480469, 361.5978698730469, 415.0429992675781, 360.4789123535156, 330.81988525390625, 386.82220458984375, 355.519775390625, 356.89459228515625, 261.1960144042969, 255.12925720214844, 233.9730682373047, 237.80258178710938, 195.49839782714844, 187.84812927246094, 177.32289123535156, 177.53684997558594, 159.98846435546875, 153.91622924804688, 119.2596206665039, 115.92693328857422, 114.99173736572266, 109.95503234863281, 109.28270721435547, 102.60337829589844, 104.30754852294922, 103.69978332519531, 96.84141540527344, 94.42454528808594, 94.24987030029297, 95.718017578125, 83.75196075439453, 87.29798126220703, 82.99966430664062, 79.91370391845703, 78.24527740478516, 367.33746337890625, 320.82470703125, 226.536376953125, 746.7900390625, 580.0516967773438, 403.06805419921875, 837.2116088867188, 192.48231506347656, 324.9765319824219, 260.8271789550781, 548.690185546875, 215.83966064453125, 363.4665832519531, 268.1560974121094, 427.633056640625, 158.4980010986328, 458.3714904785156, 571.5166625976562, 795.675048828125, 672.1661376953125, 536.8711547851562, 468.90576171875, 449.2454528808594, 667.069091796875, 544.6262817382812, 465.0503234863281, 507.7153015136719, 1114.6612548828125, 558.4734497070312, 380.18963623046875, 443.62646484375, 367.3215637207031, 320.7143249511719, 446.1297302246094, 354.8082580566406, 387.23980712890625, 652.1796264648438, 528.8270874023438, 479.985595703125, 480.58734130859375, 321.1849670410156, 314.33636474609375, 315.2304992675781, 283.3385009765625, 259.7688903808594, 262.72698974609375, 249.95068359375, 232.15164184570312, 230.2709503173828, 213.1729736328125, 208.22996520996094, 203.3906707763672, 201.52328491210938, 190.02000427246094, 173.26429748535156, 172.22032165527344, 171.73646545410156, 149.99005126953125, 136.21090698242188, 118.50957489013672, 115.30061340332031, 116.5407943725586, 102.99980926513672, 99.85700225830078, 98.28231811523438, 82.93401336669922, 250.9390869140625, 304.1285705566406, 371.2234191894531, 197.73057556152344, 1047.706787109375, 254.115966796875, 201.743896484375, 867.093994140625, 350.5455322265625, 366.0537414550781, 232.84576416015625, 1116.456298828125, 341.0411071777344, 408.1664123535156, 312.7477722167969, 343.25, 411.60589599609375, 294.4748229980469, 345.6946716308594, 270.2128601074219, 311.9107971191406, 328.9269714355469, 277.7481689453125, 257.0212097167969, 572.518798828125, 352.15655517578125, 251.0188446044922, 248.57363891601562, 232.5073699951172, 228.0638885498047, 212.8684539794922, 206.99380493164062, 195.54383850097656, 142.82958984375, 140.53073120117188, 146.59841918945312, 136.27383422851562, 127.77155303955078, 128.45310974121094, 114.27447509765625, 101.87336730957031, 100.791015625, 102.101318359375, 96.97317504882812, 92.47551727294922, 90.74295806884766, 91.5803451538086, 88.63005065917969, 78.7193603515625, 82.48749542236328, 83.31581115722656, 79.11409759521484, 76.86792755126953, 76.25128173828125, 402.9855651855469, 80.11470794677734, 436.7574768066406, 246.83082580566406, 393.420654296875, 320.6338806152344, 489.28411865234375, 321.2826232910156, 206.80953979492188, 797.0703125, 360.64703369140625, 651.5081787109375, 447.37689208984375, 324.67755126953125, 261.87066650390625, 1125.765380859375, 229.66453552246094, 279.8277587890625, 447.0799255371094, 345.6874694824219, 321.33978271484375, 300.23040771484375, 1448.860107421875, 351.5346374511719, 451.81951904296875, 419.5070495605469, 259.8325500488281, 256.6347351074219, 267.3236999511719, 247.82693481445312, 389.06109619140625, 224.47056579589844, 200.88739013671875, 168.2599639892578, 165.71510314941406, 154.5445556640625, 150.30850219726562, 128.07888793945312, 123.00289916992188, 121.2367935180664, 118.98787689208984, 121.1239242553711, 102.08999633789062, 101.33036041259766, 98.99498748779297, 96.05934143066406, 99.9252700805664, 95.29298400878906, 84.4869613647461, 80.87946319580078, 82.6712875366211, 83.8147201538086, 75.4998550415039, 77.50718688964844, 74.38915252685547, 78.37532806396484, 74.61773681640625, 74.38014221191406, 64.7294921875, 66.44906616210938, 1007.195556640625, 219.66673278808594, 167.99087524414062, 238.9537811279297, 467.456787109375, 90.83128356933594, 460.59625244140625, 647.679931640625, 236.96315002441406, 446.48345947265625, 157.7274169921875, 275.4462890625, 535.7262573242188, 442.8507080078125, 148.65786743164062, 139.0709228515625, 264.61138916015625, 166.39389038085938, 279.12060546875, 279.06787109375, 327.8268127441406, 167.1441650390625, 197.62686157226562, 159.65560913085938, 181.56556701660156, 174.10455322265625, 167.20977783203125, 157.17991638183594], \"Total\": [1031.0, 1455.0, 1332.0, 1109.0, 2409.0, 1892.0, 652.0, 802.0, 1094.0, 995.0, 1156.0, 573.0, 529.0, 928.0, 389.0, 481.0, 480.0, 787.0, 705.0, 2557.0, 649.0, 737.0, 553.0, 486.0, 575.0, 413.0, 1022.0, 494.0, 352.0, 478.0, 553.4334716796875, 494.01336669921875, 478.60247802734375, 409.8016662597656, 366.798095703125, 274.0447692871094, 231.47344970703125, 205.13604736328125, 203.23483276367188, 197.64767456054688, 188.5103302001953, 186.4405059814453, 176.80111694335938, 175.99554443359375, 162.710205078125, 162.15219116210938, 147.66421508789062, 145.5143280029297, 138.86199951171875, 138.92173767089844, 137.1444091796875, 128.467041015625, 125.60008239746094, 125.86160278320312, 118.02783966064453, 119.10851287841797, 115.70973205566406, 111.00714874267578, 110.50749206542969, 112.46122741699219, 406.21209716796875, 563.744140625, 525.3241577148438, 1156.4649658203125, 332.4424743652344, 231.31967163085938, 276.7499694824219, 222.6396026611328, 719.6730346679688, 2557.357666015625, 234.19680786132812, 562.7697143554688, 701.8773193359375, 8612.5126953125, 303.2191467285156, 350.7784423828125, 568.7978515625, 1892.79833984375, 1534.759765625, 495.3111572265625, 322.3026123046875, 680.1777954101562, 784.2526245117188, 386.5503234863281, 2011.172119140625, 2073.046875, 501.115966796875, 877.7311401367188, 1643.050537109375, 1403.02978515625, 886.3255004882812, 1691.5177001953125, 967.5140380859375, 1455.7183837890625, 387.6062316894531, 356.291748046875, 357.67340087890625, 261.96881103515625, 255.92282104492188, 234.7403564453125, 238.5866241455078, 196.27316284179688, 188.61709594726562, 178.0896453857422, 178.3084716796875, 160.7734832763672, 154.6810760498047, 120.03328704833984, 116.69781494140625, 115.75845336914062, 110.7220230102539, 110.05078887939453, 103.37232208251953, 105.1250991821289, 104.53047180175781, 97.62346649169922, 95.1915283203125, 95.03228759765625, 96.52228546142578, 84.51547241210938, 88.1187973022461, 83.78260040283203, 80.67784118652344, 79.01045227050781, 387.98114013671875, 338.5224609375, 239.60781860351562, 928.1580810546875, 705.2391967773438, 474.4395751953125, 1094.820068359375, 211.502685546875, 390.29571533203125, 303.74432373046875, 737.5004272460938, 246.63478088378906, 456.3952941894531, 333.0774230957031, 621.3405151367188, 175.66439819335938, 738.2288208007812, 1036.858154296875, 1643.050537109375, 1303.31982421875, 1021.3580322265625, 896.9730834960938, 855.9688110351562, 1691.5177001953125, 1200.138671875, 976.7056274414062, 1332.89599609375, 8612.5126953125, 2011.172119140625, 808.6683959960938, 1264.0447998046875, 805.1809692382812, 546.6473999023438, 2409.201171875, 967.5140380859375, 2557.357666015625, 652.9705200195312, 529.6119384765625, 480.77349853515625, 481.3789978027344, 321.9825439453125, 315.1259460449219, 316.0283203125, 284.13677978515625, 260.5602111816406, 263.549072265625, 250.7394561767578, 232.9455108642578, 231.06634521484375, 213.9761199951172, 209.0164337158203, 204.1758575439453, 202.32870483398438, 190.81564331054688, 174.04869079589844, 173.00607299804688, 172.52947998046875, 150.77757263183594, 137.07078552246094, 119.29439544677734, 116.09619140625, 117.35025024414062, 103.80158996582031, 100.65007019042969, 99.0672836303711, 83.7206802368164, 262.5764465332031, 333.28302001953125, 414.2288818359375, 216.72256469726562, 1455.7183837890625, 313.4758605957031, 240.1268768310547, 1892.79833984375, 550.7642822265625, 597.53466796875, 297.9914245605469, 8612.5126953125, 802.2423706054688, 1403.02978515625, 758.2986450195312, 995.3489990234375, 2011.172119140625, 777.9881591796875, 1534.759765625, 575.1458129882812, 1109.5732421875, 2073.046875, 877.7311401367188, 1094.820068359375, 573.302490234375, 352.9269104003906, 251.78811645507812, 249.33889770507812, 233.27154541015625, 228.85299682617188, 213.64096069335938, 207.7783966064453, 196.315673828125, 143.5978240966797, 141.29592895507812, 147.4034423828125, 137.04962158203125, 128.5365753173828, 129.23341369628906, 115.05380249023438, 102.65196228027344, 101.58870697021484, 102.91471862792969, 97.75019073486328, 93.24252319335938, 91.51839447021484, 92.3704833984375, 89.39762878417969, 79.48318481445312, 83.29304504394531, 84.14028930664062, 79.90208435058594, 77.63461303710938, 77.02207946777344, 413.35430908203125, 80.94979858398438, 486.0816345214844, 265.6576843261719, 445.9689636230469, 358.84576416015625, 575.9047241210938, 374.6445007324219, 231.93893432617188, 1109.5732421875, 460.6528015136719, 995.3489990234375, 649.2189331054688, 436.0155944824219, 352.8382263183594, 2409.201171875, 305.3362121582031, 412.59735107421875, 833.9729614257812, 582.9453735351562, 520.953857421875, 470.4415588378906, 8612.5126953125, 731.4208984375, 1264.0447998046875, 2073.046875, 437.9266052246094, 459.34661865234375, 1403.02978515625, 656.3745727539062, 389.848876953125, 225.26541137695312, 201.67282104492188, 169.04197692871094, 166.49737548828125, 155.34120178222656, 151.1703643798828, 128.86138916015625, 123.7911605834961, 122.03038787841797, 119.7733154296875, 121.93094635009766, 102.88385772705078, 102.1195297241211, 99.79937744140625, 96.84757995605469, 100.77546691894531, 96.11318969726562, 85.2690200805664, 81.66170501708984, 83.48560333251953, 84.68040466308594, 76.28340911865234, 78.3166275024414, 75.17151641845703, 79.21742248535156, 75.4313735961914, 75.23855590820312, 65.5154800415039, 67.25823974609375, 1031.612060546875, 243.81634521484375, 204.26321411132812, 321.54559326171875, 787.5232543945312, 96.90798950195312, 802.2423706054688, 1332.89599609375, 385.7084655761719, 1022.0476684570312, 221.96189880371094, 542.8330078125, 2409.201171875, 2073.046875, 234.48617553710938, 208.3897705078125, 855.7958374023438, 324.25146484375, 1691.5177001953125, 2011.172119140625, 8612.5126953125, 467.5744323730469, 1036.858154296875, 441.2706298828125, 1264.0447998046875, 1403.02978515625, 1643.050537109375, 1018.427734375], \"Category\": [\"Default\", \"Default\", \"Default\", \"Default\", \"Default\", \"Default\", \"Default\", \"Default\", \"Default\", \"Default\", \"Default\", \"Default\", \"Default\", \"Default\", \"Default\", \"Default\", \"Default\", \"Default\", \"Default\", \"Default\", \"Default\", \"Default\", \"Default\", \"Default\", \"Default\", \"Default\", \"Default\", \"Default\", \"Default\", \"Default\", \"Topic1\", \"Topic1\", \"Topic1\", \"Topic1\", \"Topic1\", \"Topic1\", \"Topic1\", \"Topic1\", \"Topic1\", \"Topic1\", \"Topic1\", \"Topic1\", \"Topic1\", \"Topic1\", \"Topic1\", \"Topic1\", \"Topic1\", \"Topic1\", \"Topic1\", \"Topic1\", \"Topic1\", \"Topic1\", \"Topic1\", \"Topic1\", \"Topic1\", \"Topic1\", \"Topic1\", \"Topic1\", \"Topic1\", \"Topic1\", \"Topic1\", \"Topic1\", \"Topic1\", \"Topic1\", \"Topic1\", \"Topic1\", \"Topic1\", \"Topic1\", \"Topic1\", \"Topic1\", \"Topic1\", \"Topic1\", \"Topic1\", \"Topic1\", \"Topic1\", \"Topic1\", \"Topic1\", \"Topic1\", \"Topic1\", \"Topic1\", \"Topic1\", \"Topic1\", \"Topic1\", \"Topic1\", \"Topic1\", \"Topic1\", \"Topic1\", \"Topic1\", \"Topic1\", \"Topic1\", \"Topic1\", \"Topic1\", \"Topic1\", \"Topic1\", \"Topic2\", \"Topic2\", \"Topic2\", \"Topic2\", \"Topic2\", \"Topic2\", \"Topic2\", \"Topic2\", \"Topic2\", \"Topic2\", \"Topic2\", \"Topic2\", \"Topic2\", \"Topic2\", \"Topic2\", \"Topic2\", \"Topic2\", \"Topic2\", \"Topic2\", \"Topic2\", \"Topic2\", \"Topic2\", \"Topic2\", \"Topic2\", \"Topic2\", \"Topic2\", \"Topic2\", \"Topic2\", \"Topic2\", \"Topic2\", \"Topic2\", \"Topic2\", \"Topic2\", \"Topic2\", \"Topic2\", \"Topic2\", \"Topic2\", \"Topic2\", \"Topic2\", \"Topic2\", \"Topic2\", \"Topic2\", \"Topic2\", \"Topic2\", \"Topic2\", \"Topic2\", \"Topic2\", \"Topic2\", \"Topic2\", \"Topic2\", \"Topic2\", \"Topic2\", \"Topic2\", \"Topic2\", \"Topic2\", \"Topic2\", \"Topic2\", \"Topic2\", \"Topic2\", \"Topic2\", \"Topic2\", \"Topic2\", \"Topic2\", \"Topic2\", \"Topic2\", \"Topic2\", \"Topic3\", \"Topic3\", \"Topic3\", \"Topic3\", \"Topic3\", \"Topic3\", \"Topic3\", \"Topic3\", \"Topic3\", \"Topic3\", \"Topic3\", \"Topic3\", \"Topic3\", \"Topic3\", \"Topic3\", \"Topic3\", \"Topic3\", \"Topic3\", \"Topic3\", \"Topic3\", \"Topic3\", \"Topic3\", \"Topic3\", \"Topic3\", \"Topic3\", \"Topic3\", \"Topic3\", \"Topic3\", \"Topic3\", \"Topic3\", \"Topic3\", \"Topic3\", \"Topic3\", \"Topic3\", \"Topic3\", \"Topic3\", \"Topic3\", \"Topic3\", \"Topic3\", \"Topic3\", \"Topic3\", \"Topic3\", \"Topic3\", \"Topic3\", \"Topic3\", \"Topic3\", \"Topic3\", \"Topic3\", \"Topic3\", \"Topic3\", \"Topic3\", \"Topic3\", \"Topic3\", \"Topic3\", \"Topic4\", \"Topic4\", \"Topic4\", \"Topic4\", \"Topic4\", \"Topic4\", \"Topic4\", \"Topic4\", \"Topic4\", \"Topic4\", \"Topic4\", \"Topic4\", \"Topic4\", \"Topic4\", \"Topic4\", \"Topic4\", \"Topic4\", \"Topic4\", \"Topic4\", \"Topic4\", \"Topic4\", \"Topic4\", \"Topic4\", \"Topic4\", \"Topic4\", \"Topic4\", \"Topic4\", \"Topic4\", \"Topic4\", \"Topic4\", \"Topic4\", \"Topic4\", \"Topic4\", \"Topic4\", \"Topic4\", \"Topic4\", \"Topic4\", \"Topic4\", \"Topic4\", \"Topic4\", \"Topic4\", \"Topic4\", \"Topic4\", \"Topic4\", \"Topic4\", \"Topic4\", \"Topic4\", \"Topic4\", \"Topic4\", \"Topic4\", \"Topic4\", \"Topic4\", \"Topic4\", \"Topic4\", \"Topic4\", \"Topic4\", \"Topic4\", \"Topic4\", \"Topic4\", \"Topic4\", \"Topic5\", \"Topic5\", \"Topic5\", \"Topic5\", \"Topic5\", \"Topic5\", \"Topic5\", \"Topic5\", \"Topic5\", \"Topic5\", \"Topic5\", \"Topic5\", \"Topic5\", \"Topic5\", \"Topic5\", \"Topic5\", \"Topic5\", \"Topic5\", \"Topic5\", \"Topic5\", \"Topic5\", \"Topic5\", \"Topic5\", \"Topic5\", \"Topic5\", \"Topic5\", \"Topic5\", \"Topic5\", \"Topic5\", \"Topic5\", \"Topic5\", \"Topic5\", \"Topic5\", \"Topic5\", \"Topic5\", \"Topic5\", \"Topic5\", \"Topic5\", \"Topic5\", \"Topic5\", \"Topic5\", \"Topic5\", \"Topic5\", \"Topic5\", \"Topic5\", \"Topic5\", \"Topic5\", \"Topic5\", \"Topic5\", \"Topic5\", \"Topic5\", \"Topic5\", \"Topic5\", \"Topic5\", \"Topic5\", \"Topic5\", \"Topic5\", \"Topic5\"], \"logprob\": [30.0, 29.0, 28.0, 27.0, 26.0, 25.0, 24.0, 23.0, 22.0, 21.0, 20.0, 19.0, 18.0, 17.0, 16.0, 15.0, 14.0, 13.0, 12.0, 11.0, 10.0, 9.0, 8.0, 7.0, 6.0, 5.0, 4.0, 3.0, 2.0, 1.0, -5.189899921417236, -5.303699970245361, -5.335400104522705, -5.490900039672852, -5.6020002365112305, -5.894199848175049, -6.063700199127197, -6.184800148010254, -6.194200038909912, -6.2221999168396, -6.269700050354004, -6.280700206756592, -6.334000110626221, -6.338600158691406, -6.417500019073486, -6.42110013961792, -6.514999866485596, -6.529699802398682, -6.5767998695373535, -6.576399803161621, -6.589399814605713, -6.65500020980835, -6.677800178527832, -6.6757001876831055, -6.740200042724609, -6.731299877166748, -6.760300159454346, -6.802000045776367, -6.806700229644775, -6.7891998291015625, -5.527100086212158, -5.214900016784668, -5.2982001304626465, -4.563700199127197, -5.750100135803223, -6.099400043487549, -5.931099891662598, -6.139100074768066, -5.094299793243408, -4.037099838256836, -6.118800163269043, -5.3649001121521, -5.191400051116943, -3.0697999000549316, -5.925899982452393, -5.8130998611450195, -5.457399845123291, -4.680500030517578, -4.975100040435791, -5.710299968719482, -5.9720001220703125, -5.591700077056885, -5.538700103759766, -5.8979997634887695, -5.174900054931641, -5.212200164794922, -5.797299861907959, -5.583700180053711, -5.356299877166748, -5.428999900817871, -5.614099979400635, -5.47629976272583, -5.617199897766113, -5.703100204467773, -5.288099765777588, -5.372399806976318, -5.368599891662598, -5.680799961090088, -5.7042999267578125, -5.790800094604492, -5.774600028991699, -5.9704999923706055, -6.01039981842041, -6.0680999755859375, -6.06689977645874, -6.170899868011475, -6.20959997177124, -6.464700222015381, -6.493100166320801, -6.501200199127197, -6.546000003814697, -6.55210018157959, -6.615200042724609, -6.598700046539307, -6.604499816894531, -6.672999858856201, -6.698200225830078, -6.700099945068359, -6.684599876403809, -6.81820011138916, -6.776700019836426, -6.827199935913086, -6.865099906921387, -6.886199951171875, -5.339700222015381, -5.475100040435791, -5.8231000900268555, -4.630199909210205, -4.882900238037109, -5.2469000816345215, -4.515999794006348, -5.986000061035156, -5.462299823760986, -5.682199954986572, -4.938499927520752, -5.871500015258789, -5.350299835205078, -5.6545000076293945, -5.18779993057251, -6.180300235748291, -5.118299961090088, -4.89769983291626, -4.566800117492676, -4.735499858856201, -4.960299968719482, -5.095600128173828, -5.138500213623047, -4.743100166320801, -4.945899963378906, -5.103899955749512, -5.01609992980957, -4.229700088500977, -4.92080020904541, -5.3053998947143555, -5.151000022888184, -5.339799880981445, -5.475500106811523, -5.145400047302246, -5.374499797821045, -5.2870001792907715, -4.565499782562256, -4.775100231170654, -4.872000217437744, -4.870800018310547, -5.273799896240234, -5.295300006866455, -5.292500019073486, -5.399099826812744, -5.486000061035156, -5.474699974060059, -5.524499893188477, -5.598400115966797, -5.606500148773193, -5.683700084686279, -5.707099914550781, -5.7307000160217285, -5.7399001121521, -5.798699855804443, -5.890999794006348, -5.896999835968018, -5.899799823760986, -6.035200119018555, -6.1315999031066895, -6.2708001136779785, -6.2982001304626465, -6.287499904632568, -6.411099910736084, -6.4421000480651855, -6.457900047302246, -6.627699851989746, -5.520599842071533, -5.3282999992370605, -5.129000186920166, -5.758900165557861, -4.091400146484375, -5.507999897003174, -5.738800048828125, -4.280600070953369, -5.186299800872803, -5.14300012588501, -5.595399856567383, -4.027900218963623, -5.213799953460693, -5.03410005569458, -5.3003997802734375, -5.207300186157227, -5.025700092315674, -5.360599994659424, -5.200200080871582, -5.446599960327148, -5.303100109100342, -5.25, -5.419099807739258, -5.496600151062012, -4.6894001960754395, -5.1753997802734375, -5.513999938964844, -5.52370023727417, -5.59060001373291, -5.609899997711182, -5.678800106048584, -5.7067999839782715, -5.763700008392334, -6.0777997970581055, -6.094099998474121, -6.051799774169922, -6.124800205230713, -6.189199924468994, -6.183899879455566, -6.300899982452393, -6.415800094604492, -6.426400184631348, -6.41349983215332, -6.465099811553955, -6.512499809265137, -6.531499862670898, -6.522299766540527, -6.554999828338623, -6.673600196838379, -6.626800060272217, -6.616799831390381, -6.668600082397461, -6.697400093078613, -6.70550012588501, -5.040599822998047, -6.656000137329102, -4.960100173950195, -5.530799865722656, -5.064599990844727, -5.269199848175049, -4.846499919891357, -5.267199993133545, -5.707699775695801, -4.358500003814697, -5.151599884033203, -4.560200214385986, -4.936100006103516, -5.256700038909912, -5.47160005569458, -4.013299942016602, -5.60290002822876, -5.405300140380859, -4.936699867248535, -5.193999767303467, -5.267000198364258, -5.33489990234375, -3.760999917984009, -5.177199840545654, -4.926199913024902, -5.000400066375732, -5.479400157928467, -5.491799831390381, -5.451000213623047, -5.526800155639648, -4.683300018310547, -5.23330020904541, -5.344299793243408, -5.521500110626221, -5.536799907684326, -5.606599807739258, -5.634399890899658, -5.794400215148926, -5.834799766540527, -5.849299907684326, -5.868000030517578, -5.850200176239014, -6.021200180053711, -6.02869987487793, -6.052000045776367, -6.082099914550781, -6.042600154876709, -6.090099811553955, -6.210400104522705, -6.2540998458862305, -6.2322001457214355, -6.218400001525879, -6.32289981842041, -6.2967000007629395, -6.337699890136719, -6.2855000495910645, -6.334700107574463, -6.337900161743164, -6.476799964904785, -6.4506001472473145, -3.732100009918213, -5.254899978637695, -5.523099899291992, -5.17080020904541, -4.49970006942749, -6.138000011444092, -4.514500141143799, -4.173600196838379, -5.179100036621094, -4.545599937438965, -5.58620023727417, -5.028600215911865, -4.363399982452393, -4.553800106048584, -5.645400047302246, -5.712100028991699, -5.06879997253418, -5.532700061798096, -5.015399932861328, -5.015600204467773, -4.854599952697754, -5.528200149536133, -5.3607001304626465, -5.573999881744385, -5.445400238037109, -5.487400054931641, -5.5278000831604, -5.589600086212158], \"loglift\": [30.0, 29.0, 28.0, 27.0, 26.0, 25.0, 24.0, 23.0, 22.0, 21.0, 20.0, 19.0, 18.0, 17.0, 16.0, 15.0, 14.0, 13.0, 12.0, 11.0, 10.0, 9.0, 8.0, 7.0, 6.0, 5.0, 4.0, 3.0, 2.0, 1.0, 1.238800048828125, 1.2386000156402588, 1.2386000156402588, 1.2382999658584595, 1.2381000518798828, 1.2373000383377075, 1.2367000579833984, 1.2364000082015991, 1.236299991607666, 1.2360999584197998, 1.2360999584197998, 1.2359999418258667, 1.23580002784729, 1.23580002784729, 1.2353999614715576, 1.235200047492981, 1.2348999977111816, 1.2348999977111816, 1.2345999479293823, 1.2345999479293823, 1.2345000505447388, 1.2342000007629395, 1.2339999675750732, 1.2339999675750732, 1.2337000370025635, 1.2335000038146973, 1.2335000038146973, 1.233299970626831, 1.2331000566482544, 1.2330000400543213, 1.2108999490737915, 1.1952999830245972, 1.1826000213623047, 1.128100037574768, 1.1883000135421753, 1.2015999555587769, 1.1907000541687012, 1.2001999616622925, 1.0717999935150146, 0.8610000014305115, 1.1698999404907227, 1.0470999479293823, 0.9997000098228455, 0.6140999794006348, 1.1045000553131104, 1.0715999603271484, 0.9438999891281128, 0.5185999870300293, 0.4336000084877014, 0.8294000029563904, 0.9973000288009644, 0.6308000087738037, 0.5414999723434448, 0.8895999789237976, -0.0364999994635582, -0.10409999638795853, 0.7307000160217285, 0.3837999999523163, -0.015799999237060547, 0.06939999759197235, 0.34360000491142273, -0.1648000031709671, 0.25290000438690186, -0.24150000512599945, 1.4967999458312988, 1.4967000484466553, 1.4967000484466553, 1.49590003490448, 1.4957000017166138, 1.4955999851226807, 1.4954999685287476, 1.4948999881744385, 1.4946999549865723, 1.4945000410079956, 1.4945000410079956, 1.493899941444397, 1.493899941444397, 1.492400050163269, 1.4922000169754028, 1.4922000169754028, 1.4918999671936035, 1.4917999505996704, 1.4914000034332275, 1.4910000562667847, 1.4909000396728516, 1.4908000230789185, 1.4907000064849854, 1.4905999898910522, 1.4904999732971191, 1.489799976348877, 1.4895000457763672, 1.489400029182434, 1.489300012588501, 1.4890999794006348, 1.444200038909912, 1.445099949836731, 1.4427000284194946, 1.2813999652862549, 1.3034000396728516, 1.335800051689148, 1.2305999994277954, 1.4046000242233276, 1.3157000541687012, 1.346500039100647, 1.2030999660491943, 1.3654999732971191, 1.2711999416351318, 1.281999945640564, 1.1252000331878662, 1.3960000276565552, 1.0223000049591064, 0.9031999707221985, 0.7736999988555908, 0.8367000222206116, 0.8557000160217285, 0.8501999974250793, 0.854200005531311, 0.5683000087738037, 0.7087000012397766, 0.7567999958992004, 0.5335999727249146, -0.545799970626831, 0.2176000028848648, 0.7440999746322632, 0.45170000195503235, 0.7139999866485596, 0.9656000137329102, -0.1876000016927719, 0.49570000171661377, -0.3889000117778778, 1.6979000568389893, 1.69760000705719, 1.6973999738693237, 1.6973999738693237, 1.6965999603271484, 1.6965999603271484, 1.6964999437332153, 1.6963000297546387, 1.6959999799728394, 1.6958999633789062, 1.6958999633789062, 1.6957000494003296, 1.6956000328063965, 1.6952999830245972, 1.6952999830245972, 1.695199966430664, 1.695099949836731, 1.6949000358581543, 1.694599986076355, 1.6944999694824219, 1.6944999694824219, 1.6937999725341797, 1.6928000450134277, 1.6924999952316284, 1.692199945449829, 1.6921000480651855, 1.6913000345230103, 1.6912000179290771, 1.691100001335144, 1.6895999908447266, 1.6536999940872192, 1.6074999570846558, 1.5894999504089355, 1.6073999404907227, 1.3702000379562378, 1.4890999794006348, 1.524899959564209, 0.91839998960495, 1.2473000288009644, 1.2089999914169312, 1.4523999691009521, -0.3440000116825104, 0.8436999917030334, 0.4643999934196472, 0.8133999705314636, 0.6344000101089478, 0.11270000040531158, 0.7275999784469604, 0.2084999978542328, 0.9437000155448914, 0.4300999939441681, -0.14190000295639038, 0.5483999848365784, 0.2498999983072281, 1.7039999961853027, 1.7031999826431274, 1.702299952507019, 1.702299952507019, 1.7021000385284424, 1.7019000053405762, 1.701799988746643, 1.7015999555587769, 1.7014000415802002, 1.7000000476837158, 1.6999000310897827, 1.6999000310897827, 1.6996999979019165, 1.6993999481201172, 1.6993000507354736, 1.6986000537872314, 1.6978000402450562, 1.6974999904632568, 1.6973999738693237, 1.6973999738693237, 1.697100043296814, 1.6969000101089478, 1.6967999935150146, 1.6967999935150146, 1.6957000494003296, 1.6957000494003296, 1.6955000162124634, 1.6955000162124634, 1.6955000162124634, 1.6952999830245972, 1.6799999475479126, 1.6950000524520874, 1.5983999967575073, 1.6318999528884888, 1.5800000429153442, 1.5928000211715698, 1.5424000024795532, 1.5516999959945679, 1.5907000303268433, 1.3746000528335571, 1.4606000185012817, 1.281599998474121, 1.3329999446868896, 1.4105000495910645, 1.4071999788284302, 0.9445000290870667, 1.4206000566482544, 1.3171000480651855, 1.0819000005722046, 1.182800054550171, 1.2222000360488892, 1.2562999725341797, -0.0771000012755394, 0.9726999998092651, 0.6765999794006348, 0.10769999772310257, 1.18340003490448, 1.1232000589370728, 0.04740000143647194, 0.7314000129699707, 2.0957999229431152, 2.0943000316619873, 2.093899965286255, 2.0931999683380127, 2.093100070953369, 2.0927000045776367, 2.092099905014038, 2.0917000770568848, 2.091399908065796, 2.0913000106811523, 2.091200113296509, 2.091200113296509, 2.090100049972534, 2.090100049972534, 2.0896999835968018, 2.089600086212158, 2.0892999172210693, 2.0892999172210693, 2.088599920272827, 2.088200092315674, 2.0880000591278076, 2.0875000953674316, 2.0875000953674316, 2.087399959564209, 2.087399959564209, 2.087100028991699, 2.0869998931884766, 2.0862998962402344, 2.0857999324798584, 2.085700035095215, 2.073899984359741, 1.993499994277954, 1.9023000001907349, 1.8009999990463257, 1.576200008392334, 2.033099889755249, 1.5428999662399292, 1.376099944114685, 1.6105999946594238, 1.269700050354004, 1.7561999559402466, 1.4193999767303467, 0.5943999886512756, 0.5543000102043152, 1.6420999765396118, 1.6934000253677368, 0.9240999817848206, 1.4306999444961548, 0.296099990606308, 0.12280000001192093, -1.170699954032898, 1.069100022315979, 0.44029998779296875, 1.0812000036239624, 0.1573999971151352, 0.011099999770522118, -0.18719999492168427, 0.22920000553131104]}, \"token.table\": {\"Topic\": [1, 5, 5, 1, 4, 5, 1, 2, 3, 4, 5, 3, 4, 4, 3, 1, 5, 2, 4, 5, 5, 1, 2, 4, 2, 5, 4, 2, 5, 1, 2, 4, 1, 2, 3, 4, 5, 1, 3, 3, 1, 2, 4, 3, 1, 3, 4, 3, 4, 1, 2, 3, 5, 1, 2, 1, 4, 5, 5, 2, 1, 2, 1, 2, 3, 4, 5, 1, 5, 1, 2, 2, 2, 1, 2, 3, 4, 5, 5, 1, 3, 4, 3, 3, 1, 3, 1, 2, 3, 4, 1, 4, 5, 1, 2, 1, 5, 1, 2, 4, 5, 1, 4, 1, 2, 4, 2, 3, 5, 3, 4, 5, 5, 4, 3, 5, 3, 5, 4, 4, 1, 4, 4, 1, 4, 1, 1, 4, 1, 2, 3, 4, 4, 2, 4, 5, 1, 2, 5, 1, 3, 4, 5, 3, 4, 3, 5, 2, 4, 4, 1, 2, 3, 4, 5, 2, 3, 4, 1, 2, 3, 4, 5, 2, 4, 4, 2, 4, 3, 2, 3, 1, 2, 3, 5, 1, 2, 3, 4, 5, 1, 2, 3, 4, 5, 2, 2, 2, 3, 4, 5, 1, 4, 4, 2, 3, 2, 3, 5, 1, 1, 2, 3, 4, 5, 2, 3, 4, 5, 1, 2, 3, 4, 5, 1, 3, 1, 1, 2, 3, 4, 5, 1, 3, 4, 4, 4, 1, 3, 2, 1, 3, 4, 4, 1, 3, 1, 2, 4, 2, 1, 1, 2, 3, 4, 5, 1, 1, 2, 4, 1, 4, 1, 2, 3, 4, 2, 3, 4, 5, 3, 1, 3, 1, 2, 3, 4, 5, 2, 3, 4, 1, 2, 3, 4, 5, 3, 3, 4, 2, 1, 2, 2, 5, 3, 1, 2, 3, 4, 5, 3, 5, 3, 5, 5, 1, 2, 3, 4, 5, 1, 2, 3, 4, 3, 4, 3, 1, 2, 3, 4, 5, 5, 5, 5, 5, 1, 2, 3, 4, 5, 4, 3, 3, 5, 1, 1, 4, 3, 2, 1, 2, 3, 5, 3, 1, 3, 4, 2, 3, 5, 2, 3, 1, 1, 1, 1, 5, 2, 3, 4, 1, 5, 4, 3, 1, 1, 5, 1, 3, 2, 5, 3, 4, 2, 3, 4, 5, 4, 1, 3, 5, 5, 1, 3, 4, 4, 5, 2, 2, 1, 2, 1, 2, 5, 3, 4, 5, 1, 2, 3, 4, 5, 5, 1, 2, 3, 2, 1, 2, 3, 4, 5, 4, 1, 2, 3, 4, 5, 1, 3, 4, 1, 2, 3, 4, 5, 3, 4, 4, 1, 2, 3, 4, 5, 2, 5, 2, 3, 5, 3, 3, 3, 5, 2, 1, 5, 2, 4, 2, 5, 1, 2, 3, 4, 5, 1, 3, 1, 2, 3, 4, 5, 4, 2, 3, 1, 2, 5, 1, 2, 3, 5, 2, 1, 2, 3, 4, 5, 2, 5, 3, 2, 3, 4, 5, 1, 2, 4, 1, 5, 1, 1, 2, 3, 3, 2, 2, 3, 5, 3, 1, 2, 3, 5, 1, 2, 3, 4, 3, 1, 2, 3, 1, 2, 3, 4, 5, 2, 5, 3, 3, 1, 5, 1, 2, 3, 5, 1, 2, 3, 4, 5, 1, 2, 3, 4, 1, 2, 3, 4, 5], \"Freq\": [0.9943433403968811, 0.993835985660553, 0.9918969869613647, 0.9967230558395386, 0.9923412799835205, 0.989037036895752, 0.2604861557483673, 0.1644921749830246, 0.15870359539985657, 0.20260034501552582, 0.21369512379169464, 0.14146743714809418, 0.8568122386932373, 0.9972630143165588, 0.9948428869247437, 0.9972928166389465, 0.9943825602531433, 0.9940203428268433, 0.9923254251480103, 0.9978225231170654, 0.994183361530304, 0.2817554473876953, 0.6204038262367249, 0.09753073751926422, 0.9915981888771057, 0.9915562868118286, 0.9969998002052307, 0.8494232296943665, 0.14965024590492249, 0.6006593704223633, 0.3252740204334259, 0.07183966040611267, 0.08379361778497696, 0.2574749290943146, 0.13254626095294952, 0.3778330385684967, 0.14778147637844086, 0.9640339016914368, 0.034584175795316696, 0.9905579090118408, 0.11529719084501266, 0.8327019214630127, 0.04868103563785553, 0.9939747452735901, 0.032562486827373505, 0.18234992027282715, 0.7836704850196838, 0.2550744116306305, 0.7425499558448792, 0.5439754128456116, 0.11467590183019638, 0.3263852596282959, 0.014702037908136845, 0.9503162503242493, 0.046973809599876404, 0.9699366688728333, 0.027079449966549873, 0.9978035092353821, 0.991409182548523, 0.9939008355140686, 0.051548898220062256, 0.9459222555160522, 0.6622099876403809, 0.14940103888511658, 0.1574767678976059, 0.030283993110060692, 0.9936088919639587, 0.784976601600647, 0.21408452093601227, 0.8244935274124146, 0.17413872480392456, 0.996846079826355, 0.9955968856811523, 0.24580492079257965, 0.4541141986846924, 0.1066543385386467, 0.12665203213691711, 0.06665896624326706, 0.9933153986930847, 0.993924081325531, 0.2811892032623291, 0.7182942032814026, 0.9983911514282227, 0.9970153570175171, 0.99546879529953, 0.998375415802002, 0.4463239312171936, 0.2078501135110855, 0.22544245421886444, 0.11988846957683563, 0.7436736822128296, 0.21624554693698883, 0.038678064942359924, 0.8739553689956665, 0.1253218948841095, 0.9916554689407349, 0.9942812323570251, 0.3071289360523224, 0.07486267387866974, 0.6161774396896362, 0.98841792345047, 0.9956351518630981, 0.9958367943763733, 0.7036600112915039, 0.23282867670059204, 0.06208764761686325, 0.9874828457832336, 0.9970508813858032, 0.9919901490211487, 0.9941847324371338, 0.2550182640552521, 0.7432849407196045, 0.9921319484710693, 0.9988359212875366, 0.9913918375968933, 0.9919650554656982, 0.9951370358467102, 0.9831757545471191, 0.9867300391197205, 0.9887101054191589, 0.10778699070215225, 0.8924763202667236, 0.9939209222793579, 0.024192320182919502, 0.9749505519866943, 0.9963645339012146, 0.9992167353630066, 0.9864477515220642, 0.21442832052707672, 0.1492421180009842, 0.042885664850473404, 0.5935376286506653, 0.9904559254646301, 0.05381540581583977, 0.8812272548675537, 0.06278463453054428, 0.13810603320598602, 0.804617702960968, 0.05704379454255104, 0.14907723665237427, 0.08485934883356094, 0.7453861832618713, 0.02064146287739277, 0.7819017171859741, 0.2181270867586136, 0.023264558985829353, 0.9761421084403992, 0.9482384324073792, 0.05021823197603226, 0.9962537288665771, 0.21385881304740906, 0.15474337339401245, 0.46944618225097656, 0.07302495837211609, 0.0886731669306755, 0.9951890110969543, 0.3446027338504791, 0.6550466418266296, 0.031826917082071304, 0.5516666173934937, 0.09355185180902481, 0.13212993741035461, 0.19096150994300842, 0.9904517531394958, 0.9866743087768555, 0.9962727427482605, 0.9945889711380005, 0.9942049980163574, 0.9975321888923645, 0.7645092010498047, 0.23474176228046417, 0.16742414236068726, 0.5257706046104431, 0.23400217294692993, 0.07245255261659622, 0.37208762764930725, 0.36691972613334656, 0.12402921169996262, 0.06408175826072693, 0.07235036790370941, 0.2848360240459442, 0.48446470499038696, 0.10164020955562592, 0.027388080954551697, 0.10164020955562592, 0.9982700347900391, 0.9873035550117493, 0.38112500309944153, 0.03976304084062576, 0.09303051233291626, 0.48615947365760803, 0.8941040635108948, 0.10549390316009521, 0.997373640537262, 0.8757888674736023, 0.12163734436035156, 0.8592753410339355, 0.04279915243387222, 0.09876728057861328, 0.9931543469429016, 0.05660213530063629, 0.14150534570217133, 0.17633742094039917, 0.5594903230667114, 0.06531015783548355, 0.16316518187522888, 0.027194196358323097, 0.44870424270629883, 0.3625892698764801, 0.13179108500480652, 0.1339167356491089, 0.05101590231060982, 0.637698769569397, 0.042513251304626465, 0.9906932711601257, 0.9954381585121155, 0.9912915229797363, 0.1333293914794922, 0.03428470343351364, 0.08888626098632812, 0.14983683824539185, 0.5929983854293823, 0.17935161292552948, 0.14057289063930511, 0.6786277294158936, 0.9844759702682495, 0.9918256402015686, 0.18821226060390472, 0.8102697134017944, 0.9938814640045166, 0.04189256206154823, 0.9559121131896973, 0.9983919858932495, 0.9958255290985107, 0.9441789388656616, 0.055204011499881744, 0.2922864258289337, 0.11189089715480804, 0.5937067866325378, 0.9936135411262512, 0.9979487061500549, 0.11233779042959213, 0.35125336050987244, 0.035600002855062485, 0.3575822710990906, 0.14398223161697388, 0.9978241324424744, 0.9979546070098877, 0.9963982701301575, 0.9943356513977051, 0.9611946940422058, 0.0359325110912323, 0.16570450365543365, 0.46990829706192017, 0.24732016026973724, 0.11747707426548004, 0.09497726708650589, 0.0786018818616867, 0.7532680034637451, 0.07205171883106232, 0.9957255125045776, 0.08305549621582031, 0.9136104583740234, 0.278941810131073, 0.2774501442909241, 0.20485566556453705, 0.09994172304868698, 0.13872507214546204, 0.8994423747062683, 0.06831207871437073, 0.028463365510106087, 0.24132971465587616, 0.10154310613870621, 0.41276612877845764, 0.16879892349243164, 0.07648701220750809, 0.9921880960464478, 0.3096027970314026, 0.6885196566581726, 0.9991811513900757, 0.9944619536399841, 0.9975412487983704, 0.9473814368247986, 0.05008183792233467, 0.994240939617157, 0.10551901161670685, 0.17986194789409637, 0.14988495409488678, 0.5359886288642883, 0.028777912259101868, 0.288337767124176, 0.7118338942527771, 0.4250585734844208, 0.5746393203735352, 0.9935435056686401, 0.07093260437250137, 0.21279780566692352, 0.1603693664073944, 0.0400923416018486, 0.5119483470916748, 0.4972887337207794, 0.17851391434669495, 0.19509020447731018, 0.1300601363182068, 0.8956401348114014, 0.10139322280883789, 0.9969484806060791, 0.3100433051586151, 0.08410370349884033, 0.29079923033714294, 0.19030244648456573, 0.12401732802391052, 0.9923049807548523, 0.9851174354553223, 0.997012734413147, 0.9844154119491577, 0.1075022742152214, 0.19747701287269592, 0.2640816867351532, 0.12152431160211563, 0.30965328216552734, 0.9986408352851868, 0.9967461228370667, 0.051595333963632584, 0.9390350580215454, 0.9909271597862244, 0.9987411499023438, 0.9959891438484192, 0.9953851103782654, 0.9906591773033142, 0.48605284094810486, 0.010566365905106068, 0.45805197954177856, 0.04543537274003029, 0.9959991574287415, 0.8448280692100525, 0.05280175432562828, 0.10143495351076126, 0.8048198223114014, 0.058179743587970734, 0.136830136179924, 0.7444063425064087, 0.25491511821746826, 0.9976372718811035, 0.9961875677108765, 0.9938662648200989, 0.9933650493621826, 0.9846318960189819, 0.9934789538383484, 0.10589507967233658, 0.894534707069397, 0.9928944110870361, 0.9912483096122742, 0.9968699216842651, 0.9969310760498047, 0.9937924146652222, 0.956107497215271, 0.0425725057721138, 0.9308410286903381, 0.06404869258403778, 0.996394157409668, 0.9923649430274963, 0.06775636970996857, 0.9297679662704468, 0.2801693081855774, 0.09196396917104721, 0.2694758176803589, 0.35716238617897034, 0.9911118745803833, 0.9964654445648193, 0.38370949029922485, 0.6144537329673767, 0.9835382699966431, 0.41016054153442383, 0.10800894349813461, 0.48125505447387695, 0.9994723796844482, 0.9812924265861511, 0.9891375303268433, 0.9934479594230652, 0.8438374996185303, 0.15394333004951477, 0.07230573892593384, 0.7953631281852722, 0.1292739063501358, 0.0937655121088028, 0.849098801612854, 0.055564746260643005, 0.5346871614456177, 0.12946279346942902, 0.12957890331745148, 0.16824358701705933, 0.03808412328362465, 0.99595707654953, 0.995222270488739, 0.993513286113739, 0.9979166388511658, 0.9963018298149109, 0.9958987832069397, 0.6888332366943359, 0.09495598077774048, 0.1480669528245926, 0.06759578734636307, 0.9936488270759583, 0.21307353675365448, 0.2602050006389618, 0.15514110028743744, 0.21700115501880646, 0.15415918827056885, 0.3146260976791382, 0.6125167608261108, 0.07196234911680222, 0.1516210436820984, 0.5228696465492249, 0.1527359038591385, 0.1293238401412964, 0.044594425708055496, 0.1008061096072197, 0.8990259170532227, 0.9979056119918823, 0.08708008378744125, 0.11056235432624817, 0.1966640204191208, 0.16828960180282593, 0.4363788664340973, 0.9984359741210938, 0.9966638088226318, 0.20470289885997772, 0.16205646097660065, 0.6354319453239441, 0.9992126822471619, 0.9964269995689392, 0.17624318599700928, 0.8224682211875916, 0.9949252009391785, 0.9505403637886047, 0.048128627240657806, 0.991391658782959, 0.9882668256759644, 0.09843474626541138, 0.9023184776306152, 0.07683197408914566, 0.5872158408164978, 0.22134926915168762, 0.10244263708591461, 0.012805329635739326, 0.3631317615509033, 0.637296199798584, 0.24534180760383606, 0.39432042837142944, 0.10759568214416504, 0.08749538660049438, 0.16494064033031464, 0.995552122592926, 0.9981172680854797, 0.9985136985778809, 0.7864622473716736, 0.16812054812908173, 0.04416726157069206, 0.2792157828807831, 0.5245518088340759, 0.12617282569408417, 0.06892774254083633, 0.9892975091934204, 0.13887612521648407, 0.5156063437461853, 0.15805789828300476, 0.10511618107557297, 0.08209803700447083, 0.9077898859977722, 0.085105299949646, 0.9922776818275452, 0.3131718039512634, 0.05894998833537102, 0.11974216252565384, 0.5066014528274536, 0.9980437755584717, 0.9872111678123474, 0.9908407926559448, 0.9955018758773804, 0.9922579526901245, 0.9954076409339905, 0.22737914323806763, 0.052894845604896545, 0.7199194431304932, 0.998844563961029, 0.9967283010482788, 0.0374801866710186, 0.8412219285964966, 0.12076948583126068, 0.9959410429000854, 0.4084278345108032, 0.3599129319190979, 0.21549645066261292, 0.015795551240444183, 0.28406602144241333, 0.30334651470184326, 0.3778977692127228, 0.03470489755272865, 0.9978500008583069, 0.039005886763334274, 0.04800724610686302, 0.9121376872062683, 0.10852809250354767, 0.4760902225971222, 0.12081429362297058, 0.14948208630084991, 0.1453866958618164, 0.8224160075187683, 0.17724482715129852, 0.9935413002967834, 0.9892266988754272, 0.33111029863357544, 0.6670193076133728, 0.42495930194854736, 0.13443751633167267, 0.3167257010936737, 0.12418381124734879, 0.05464610084891319, 0.4557981491088867, 0.22231027483940125, 0.13909916579723358, 0.12916350364685059, 0.6843000650405884, 0.15132807195186615, 0.08641732484102249, 0.07742366194725037, 0.06392160058021545, 0.18512360751628876, 0.06101607531309128, 0.4673748314380646, 0.2224803864955902], \"Term\": [\"accuse\", \"actor\", \"actress\", \"aid\", \"airline\", \"album\", \"also\", \"also\", \"also\", \"also\", \"also\", \"analyst\", \"analyst\", \"annual\", \"apple\", \"argue\", \"artist\", \"athlete\", \"auction\", \"award\", \"baby\", \"back\", \"back\", \"back\", \"ball\", \"band\", \"bank\", \"be\", \"be\", \"believe\", \"believe\", \"believe\", \"big\", \"big\", \"big\", \"big\", \"big\", \"bill\", \"bill\", \"blog\", \"break\", \"break\", \"break\", \"broadband\", \"business\", \"business\", \"business\", \"buy\", \"buy\", \"call\", \"call\", \"call\", \"call\", \"campaign\", \"campaign\", \"case\", \"case\", \"category\", \"ceremony\", \"championship\", \"chance\", \"chance\", \"change\", \"change\", \"change\", \"change\", \"chart\", \"child\", \"child\", \"claim\", \"claim\", \"club\", \"coach\", \"come\", \"come\", \"come\", \"come\", \"come\", \"comedy\", \"community\", \"company\", \"company\", \"computer\", \"connection\", \"conservative\", \"content\", \"could\", \"could\", \"could\", \"could\", \"country\", \"country\", \"country\", \"court\", \"court\", \"crime\", \"dance\", \"deal\", \"deal\", \"deal\", \"death\", \"debate\", \"debt\", \"decision\", \"decision\", \"decision\", \"defeat\", \"device\", \"die\", \"digital\", \"director\", \"director\", \"documentary\", \"dollar\", \"domain\", \"donation\", \"download\", \"drama\", \"earning\", \"ebber\", \"economic\", \"economic\", \"economist\", \"economy\", \"economy\", \"education\", \"election\", \"employee\", \"expect\", \"expect\", \"expect\", \"expect\", \"export\", \"fall\", \"fall\", \"fall\", \"feel\", \"feel\", \"feel\", \"figure\", \"figure\", \"figure\", \"figure\", \"file\", \"file\", \"film\", \"film\", \"final\", \"final\", \"financial\", \"find\", \"find\", \"find\", \"find\", \"find\", \"finish\", \"firm\", \"firm\", \"first\", \"first\", \"first\", \"first\", \"first\", \"football\", \"forecast\", \"fraud\", \"front\", \"fuel\", \"gadget\", \"game\", \"game\", \"get\", \"get\", \"get\", \"get\", \"give\", \"give\", \"give\", \"give\", \"give\", \"go\", \"go\", \"go\", \"go\", \"go\", \"goal\", \"gold\", \"good\", \"good\", \"good\", \"good\", \"government\", \"government\", \"growth\", \"happen\", \"happen\", \"have\", \"have\", \"have\", \"health\", \"high\", \"high\", \"high\", \"high\", \"high\", \"hit\", \"hit\", \"hit\", \"hit\", \"however\", \"however\", \"however\", \"however\", \"however\", \"illegal\", \"image\", \"immigration\", \"include\", \"include\", \"include\", \"include\", \"include\", \"increase\", \"increase\", \"increase\", \"indian\", \"inflation\", \"information\", \"information\", \"injury\", \"internet\", \"internet\", \"investment\", \"investor\", \"issue\", \"issue\", \"job\", \"job\", \"job\", \"kick\", \"labour\", \"last\", \"last\", \"last\", \"last\", \"last\", \"law\", \"legal\", \"lion\", \"loan\", \"local\", \"local\", \"look\", \"look\", \"look\", \"look\", \"low\", \"low\", \"low\", \"low\", \"machine\", \"mail\", \"mail\", \"make\", \"make\", \"make\", \"make\", \"make\", \"manager\", \"manager\", \"manager\", \"many\", \"many\", \"many\", \"many\", \"many\", \"map\", \"market\", \"market\", \"match\", \"minister\", \"minute\", \"miss\", \"miss\", \"mobile\", \"month\", \"month\", \"month\", \"month\", \"month\", \"movie\", \"movie\", \"music\", \"music\", \"musical\", \"name\", \"name\", \"name\", \"name\", \"name\", \"need\", \"need\", \"need\", \"need\", \"net\", \"net\", \"network\", \"new\", \"new\", \"new\", \"new\", \"new\", \"night\", \"nominate\", \"nomination\", \"nominee\", \"number\", \"number\", \"number\", \"number\", \"number\", \"oil\", \"online\", \"original\", \"original\", \"parliament\", \"party\", \"payment\", \"pc\", \"penalty\", \"people\", \"people\", \"people\", \"people\", \"phone\", \"plan\", \"plan\", \"plan\", \"play\", \"play\", \"play\", \"player\", \"player\", \"police\", \"policy\", \"politic\", \"political\", \"pop\", \"premiership\", \"price\", \"price\", \"private\", \"prize\", \"profit\", \"program\", \"proposal\", \"public\", \"public\", \"question\", \"question\", \"race\", \"rap\", \"rate\", \"rate\", \"record\", \"record\", \"record\", \"record\", \"recovery\", \"reform\", \"release\", \"release\", \"relief\", \"report\", \"report\", \"report\", \"rise\", \"rock\", \"round\", \"rugby\", \"rule\", \"rule\", \"s\", \"s\", \"s\", \"sale\", \"sale\", \"sale\", \"say\", \"say\", \"say\", \"say\", \"say\", \"scene\", \"scheme\", \"score\", \"search\", \"season\", \"seat\", \"second\", \"second\", \"second\", \"second\", \"sector\", \"see\", \"see\", \"see\", \"see\", \"see\", \"service\", \"service\", \"service\", \"set\", \"set\", \"set\", \"set\", \"set\", \"share\", \"share\", \"shareholder\", \"show\", \"show\", \"show\", \"show\", \"show\", \"side\", \"singer\", \"single\", \"single\", \"single\", \"site\", \"software\", \"song\", \"song\", \"spanish\", \"spokesman\", \"spokesman\", \"sport\", \"stake\", \"star\", \"star\", \"start\", \"start\", \"start\", \"start\", \"start\", \"system\", \"system\", \"take\", \"take\", \"take\", \"take\", \"take\", \"takeover\", \"team\", \"technology\", \"tell\", \"tell\", \"tell\", \"think\", \"think\", \"think\", \"think\", \"tie\", \"time\", \"time\", \"time\", \"time\", \"time\", \"title\", \"title\", \"tool\", \"top\", \"top\", \"top\", \"top\", \"tory\", \"tournament\", \"trading\", \"trust\", \"urban\", \"urge\", \"use\", \"use\", \"use\", \"user\", \"victory\", \"video\", \"video\", \"video\", \"virus\", \"want\", \"want\", \"want\", \"want\", \"way\", \"way\", \"way\", \"way\", \"web\", \"website\", \"website\", \"website\", \"well\", \"well\", \"well\", \"well\", \"well\", \"win\", \"win\", \"window\", \"wireless\", \"woman\", \"woman\", \"work\", \"work\", \"work\", \"work\", \"world\", \"world\", \"world\", \"world\", \"world\", \"would\", \"would\", \"would\", \"would\", \"year\", \"year\", \"year\", \"year\", \"year\"]}, \"R\": 30, \"lambda.step\": 0.01, \"plot.opts\": {\"xlab\": \"PC1\", \"ylab\": \"PC2\"}, \"topic.order\": [3, 2, 5, 1, 4]};\n",
       "\n",
       "function LDAvis_load_lib(url, callback){\n",
       "  var s = document.createElement('script');\n",
       "  s.src = url;\n",
       "  s.async = true;\n",
       "  s.onreadystatechange = s.onload = callback;\n",
       "  s.onerror = function(){console.warn(\"failed to load library \" + url);};\n",
       "  document.getElementsByTagName(\"head\")[0].appendChild(s);\n",
       "}\n",
       "\n",
       "if(typeof(LDAvis) !== \"undefined\"){\n",
       "   // already loaded: just create the visualization\n",
       "   !function(LDAvis){\n",
       "       new LDAvis(\"#\" + \"ldavis_el2966016541895788321857346934\", ldavis_el2966016541895788321857346934_data);\n",
       "   }(LDAvis);\n",
       "}else if(typeof define === \"function\" && define.amd){\n",
       "   // require.js is available: use it to load d3/LDAvis\n",
       "   require.config({paths: {d3: \"https://cdnjs.cloudflare.com/ajax/libs/d3/3.5.5/d3.min\"}});\n",
       "   require([\"d3\"], function(d3){\n",
       "      window.d3 = d3;\n",
       "      LDAvis_load_lib(\"https://cdn.rawgit.com/bmabey/pyLDAvis/files/ldavis.v1.0.0.js\", function(){\n",
       "        new LDAvis(\"#\" + \"ldavis_el2966016541895788321857346934\", ldavis_el2966016541895788321857346934_data);\n",
       "      });\n",
       "    });\n",
       "}else{\n",
       "    // require.js not available: dynamically load d3 & LDAvis\n",
       "    LDAvis_load_lib(\"https://cdnjs.cloudflare.com/ajax/libs/d3/3.5.5/d3.min.js\", function(){\n",
       "         LDAvis_load_lib(\"https://cdn.rawgit.com/bmabey/pyLDAvis/files/ldavis.v1.0.0.js\", function(){\n",
       "                 new LDAvis(\"#\" + \"ldavis_el2966016541895788321857346934\", ldavis_el2966016541895788321857346934_data);\n",
       "            })\n",
       "         });\n",
       "}\n",
       "</script>"
      ],
      "text/plain": [
       "PreparedData(topic_coordinates=              x         y  topics  cluster       Freq\n",
       "topic                                                \n",
       "2      0.125412  0.149824       1        1  28.932821\n",
       "1     -0.054511  0.144408       2        1  22.339081\n",
       "4      0.077559 -0.039681       3        1  18.285332\n",
       "0      0.117871 -0.196863       4        1  18.170414\n",
       "3     -0.266331 -0.057689       5        1  12.272348, topic_info=        Term         Freq        Total Category  logprob  loglift\n",
       "524     film  1031.000000  1031.000000  Default  30.0000  30.0000\n",
       "217      use  1455.000000  1455.000000  Default  29.0000  29.0000\n",
       "16      good  1332.000000  1332.000000  Default  28.0000  28.0000\n",
       "6    company  1109.000000  1109.000000  Default  27.0000  27.0000\n",
       "47      year  2409.000000  2409.000000  Default  26.0000  26.0000\n",
       "..       ...          ...          ...      ...      ...      ...\n",
       "833      hit   159.655609   441.270630   Topic5  -5.5740   1.0812\n",
       "88      last   181.565567  1264.044800   Topic5  -5.4454   0.1574\n",
       "101      new   174.104553  1403.029785   Topic5  -5.4874   0.0111\n",
       "79        go   167.209778  1643.050537   Topic5  -5.5278  -0.1872\n",
       "458      see   157.179916  1018.427734   Topic5  -5.5896   0.2292\n",
       "\n",
       "[332 rows x 6 columns], token_table=      Topic      Freq     Term\n",
       "term                          \n",
       "390       1  0.994343   accuse\n",
       "3083      5  0.993836    actor\n",
       "3084      5  0.991897  actress\n",
       "2133      1  0.996723      aid\n",
       "2275      4  0.992341  airline\n",
       "...     ...       ...      ...\n",
       "47        1  0.063922     year\n",
       "47        2  0.185124     year\n",
       "47        3  0.061016     year\n",
       "47        4  0.467375     year\n",
       "47        5  0.222480     year\n",
       "\n",
       "[532 rows x 3 columns], R=30, lambda_step=0.01, plot_opts={'xlab': 'PC1', 'ylab': 'PC2'}, topic_order=[3, 2, 5, 1, 4])"
      ]
     },
     "execution_count": 111,
     "metadata": {},
     "output_type": "execute_result"
    }
   ],
   "source": [
    "# Visualize the topics\n",
    "pyLDAvis.enable_notebook()\n",
    "vis = pyLDAvis.gensim.prepare(lda_model, corpus, id2word)\n",
    "vis"
   ]
  },
  {
   "cell_type": "code",
   "execution_count": 54,
   "metadata": {},
   "outputs": [],
   "source": [
    "# Define functions for stopwords, bigrams, trigrams and lemmatization\n",
    "def remove_stopwords2(text):\n",
    "    return [word for word in text if word not in stop_words]\n",
    "\n",
    "def make_bigrams2(text):\n",
    "    return bigram_mod[text]\n",
    "\n",
    "def make_trigrams2(text):\n",
    "    return trigram_mod[bigram_mod[text]]\n",
    "\n",
    "def lemmatization2(text, allowed_postags=['NOUN', 'ADJ', 'VERB', 'ADV']):\n",
    "    \"\"\"https://spacy.io/api/annotation\"\"\"\n",
    "    doc = nlp(\" \".join(text)) \n",
    "    return [token.lemma_ for token in doc if token.pos_ in allowed_postags]"
   ]
  },
  {
   "cell_type": "code",
   "execution_count": 87,
   "metadata": {},
   "outputs": [],
   "source": [
    "def test_document(unseen_document):\n",
    "    \n",
    "    #unseen_document = 'In 2013, a study published in the journal Memory & Cognition enrolled 60 adults who were learning Hungarian. The adults were randomized to one of three learning tasks: speaking unfamiliar Hungarian phrases, speaking the same phrases in a rhythmic fashion or singing the phrases.\\r\\n\\r\\nWhen asked to recall the phrases, the researchers found participants who sang the phrases had much higher recall accuracy than the other two groups. “These results suggest that a ‘listen-and-sing’ learning method can facilitate verbatim memory for spoken foreign language phrases,” say the authors.\\r\\n\\r\\nEvidence from such studies has led researchers to suggest music may help memory recall for people with cognitive disorders, such as Alzheimer’s disease.\\r\\n\\r\\nA study published in the journal Gerontologist last year assessed the effect of music on memory recall in individuals with early-stage dementia.\\r\\n\\r\\nFor the research, 89 people with dementia and their caregivers were randomly assigned to either a 10-week singing coaching group, a 10-week music listening coaching group or usual care.\\r\\n\\r\\nThe results revealed that both the singing and music listening groups not only had better mood and overall well-being that the usual care group, but they demonstrated better episodic memory on cognitive assessments. The singing group also showed better working memory than the usual care group.\\r\\n\\r\\n“Regular musical leisure activities can have long-term cognitive, emotional, and social benefits in mild/moderate dementia and could therefore be utilized in dementia care and rehabilitation,” the authors concluded.\\r\\n\\r\\nHelping recover brain injury, treat seizures\\r\\nIncreasingly, research is indicating that music can help aid recovery from brain injury – such as that from stroke.\\r\\n\\r\\nA 2008 study conducted by researchers from the University of Helsinki in Finland found that stroke patients who listened to music for around 2 hours daily had better verbal memory and attention and a more positive mood than those who listened to an audio book or nothing at all.\\r\\n\\r\\nWhat is more, studies have shown that music may aid speech recovery following stroke. One study conducted in 2013 by researchers from Korea, for example, found that stroke patients who developed communication problems after stroke demonstrated improved language ability following 1 month of neurologic music therapy.\\r\\n\\r\\nCommenting on the possible benefits of music therapy for stroke patients, Barbara Else told MNT:\\r\\n\\r\\n“While the neuroscience and research findings around the various music therapy interventions employed to support speech, language, and communication are rapidly growing and evolving, this is an exciting area.\\r\\n\\r\\nWhen combined with our colleagues’ working with these patients in related disciplines, we often see good results. Many open questions remain but the work is very encouraging.”\\r\\n\\r\\nIt has also been suggested that music may help treat epilepsy – a brain disorder characterized by the occurrence of seizures. Reported by MNT in August, a study found the brains of patients with epilepsy show different responses to music than the brains of those without the condition.\\r\\n\\r\\nConducted by Christine Charyton, of The Ohio State University Wexner Medical Center, and colleagues, the study found the brains of people with epilepsy showed greater synchronization in response to music – a “surprising” finding.\\r\\n\\r\\n“Persons with epilepsy synchronize before a seizure. However, in our study, patients with epilepsy synchronized to the music without having a seizure,” Charyton told us.\\r\\n\\r\\nThese results, Charyton said, could lead to a novel treatment strategy for epilepsy. “Persons with epilepsy may use the music to relax; stress causes seizures to occur,” she explained. “By listening to the music, many patients reported that they felt relaxed.”\\r\\n\\r\\nMusic therapy should be utilized more in health care settings\\r\\nBased on the substantial evidence that music offers numerous health benefits, many experts are calling for greater utilization of music therapy within health care settings.\\r\\n\\r\\n“Music therapists are poised and ready to assess, deliver and document music therapy treatment but also to consult with our colleagues (physicians, nurses, physiotherapists physical, occupational therapists, speech-language pathologists, etc.) to support the patient as part of the interdisciplinary team and care of the patient,” Else told MNT.\\r\\n\\r\\nIn addition, Else believes that music therapy could offer an alternative treatment option for some conditions – such as tension headaches.\\r\\n\\r\\n“A more complicated case example I can think of, although more rare, is for certain persons who experience seizure activity associated with music and auditory exposures – often high-frequency sounds and rhythmic intensity,” she said.\\r\\n\\r\\n“Customized music therapy interventions to cope with the offending acoustic exposures can support stabilization of the patient’s symptoms and may, in turn, result in a medication reduction or taper,” she continued.\\r\\n\\r\\nBased on the research to date, there is certainly evidence that we have much more than just an emotional connection with music. So the next time you put on your favorite track, have a little dance around safe in the knowledge that you are likely to be reaping some health benefits.\\r\\n\\r\\nAnxiety / StressNeurology / NeurosciencePain / AnestheticsComplementary Medicine / Alternative Medicine\\r\\nWritten by Honor Whiteman on November 19, 2015\\r\\nLatest news\\r\\nHow has the pandemic influenced our relationship with nature?\\r\\nRemdesivir and baricitinib shortened recovery time from COVID-19\\r\\nMedical myths: All about weight loss\\r\\nWhy do we need nostalgia?\\r\\nThe Recovery Room: Our best non-pandemic stories '\n",
    "    data_words = gensim.utils.simple_preprocess(str(unseen_document), deacc=True)\n",
    "\n",
    "    # Remove Stop Words\n",
    "    data_words_nostops = remove_stopwords2(data_words)\n",
    "\n",
    "    # Form Bigrams\n",
    "    data_words_bigrams = make_bigrams2(data_words_nostops)\n",
    "    #data_words_bigrams = make_trigrams2(data_words_nostops)\n",
    "\n",
    "    # Do lemmatization keeping only noun, adj, vb, adv\n",
    "    data_lemmatized = lemmatization2(data_words_bigrams, allowed_postags=['NOUN', 'ADJ', 'VERB', 'ADV'])\n",
    "\n",
    "\n",
    "    # Create Corpus\n",
    "    text = data_lemmatized\n",
    "\n",
    "    # Term Document Frequency\n",
    "    corpus = id2word.doc2bow(text)\n",
    "\n",
    "    topic_dic = {0:'business',\n",
    "                1:'sport',\n",
    "                2:'politics',\n",
    "                3:'entertainment',\n",
    "                4:'tech'\n",
    "    }\n",
    "\n",
    "    print(f'Original text:\\n{unseen_document}\\n After Lemmatization:\\n{data_lemmatized}\\n')\n",
    "    for index, score in sorted(lda_model[corpus][0], key=lambda tup: -1*tup[1]):\n",
    "        tabs = '\\t\\t'\n",
    "        if index == 3:\n",
    "            tabs = '\\t'\n",
    "        print(f\"Topic:{topic_dic[index]} {tabs} Score: {score:.2f}\\t Topic keywords: {lda_model.print_topic(index, 5)}\")\n"
   ]
  },
  {
   "cell_type": "code",
   "execution_count": 113,
   "metadata": {},
   "outputs": [
    {
     "name": "stdout",
     "output_type": "stream",
     "text": [
      "Original text:\n",
      "Anyone who has seen The Secret of Kells or Song of the Sea will recognise the Celtic mysticism and the ornate, angular animation favoured by their director, Tomm Moore. But Wolfwalkers is his most delightful yet. Its plucky heroine is Robyn (voiced by Honor Kneafsey), the daughter of an English huntsman (Sean Bean) stationed in Ireland in the mid-1600s. He has the job of clearing the wolves from a forest near Kilkenny, but when Robyn goes exploring, she finds that one of those wolves can transform into a human girl (Eva Whittaker). As firmly rooted as it is in the history and landscape of Ireland, this is a cartoon about magic that actually feels magical. The girls' battles against destructive adults are exhilarating fun, and every frame is a work of art. (NB)\r\n",
      "\r\n",
      "Charlie Kaufman's mind-bending horror drama is like no other film this year â€“ or any other year, for that matter. Adapted from Iain Reid's novel, it stars the superb Jessie Buckley as a young woman who drives through the snow with her faintly menacing boyfriend, Jesse Plemons, to meet his eccentric parents, Toni Collette and David Thewlis, on their family farm. Nothing goes wrong, but nothing is quite right, either: the characters' clothes and ages keep changing, and the heroine is never quite sure of her own name. And then things really start getting weird. As you'd expect from the screenwriter of Being John Malkovich and Adaptation, Kaufman twists the rules of film narrative in all sorts of clever and surreal ways, but I'm Thinking of Ending Things is ultimately a powerfully melancholy treatise on the brevity of life and love. It may be confusing, but it's undoubtedly moving\r\n",
      "\r\n",
      "Rocks was directed by Sarah Gavron (Brick Lane, Suffragette) and written by Theresa Ikoko and Claire Wilson, but, as Gavron regularly says, much of its plot and dialogue was suggested by the young people she met in inner-city London. The upshot is that Rocks is the most authentic teen movie in years, showing all the difficulties of adolescence in a deprived area, but all the laughter, warmth and ebullient energy, too. Bukky Bakray stars as a schoolgirl who has to fend for her younger brother (the adorable D'angelou Osei Kissiedu) when their mother disappears from their flat. She makes bad choices, but she has good friends. A heart-rending but hopeful tribute to the bravery and resilience of youth. \r\n",
      "\r\n",
      "Chadwick Boseman's astounding performance would have put him at the front of the Oscar race even if the role hadn't turned out, so sadly, to be his last. Based on August Wilson's play, the story is set in 1924 at a recording session for the real-life blues legend Ma Rainey, played brilliantly as a sly and imperious diva by Viola Davis. Boseman is Levee, a talented musician traumatised by a racist attack he witnessed in childhood. In Boseman's perfectly modulated performance, Levee is a charming, dancing, smiling young man with a future, whose anger finally explodes. Every minute of his performance and of this film is alive with energy and passion.\n",
      " After Lemmatization:\n",
      "['see', 'secret', 'celtic', 'mysticism', 'ornate', 'favour', 'delightful', 'heroine', 'voice', 'station', 'mid', 'job', 'clearing', 'wolf', 'forest', 'go', 'explore', 'find', 'wolf', 'transform', 'human', 'girl', 'eva', 'whittaker', 'firmly', 'root', 'history', 'landscape', 'actually', 'feel', 'magical', 'girl', 'battle', 'destructive', 'adult', 'exhilarate', 'fun', 'frame', 'work', 'art', 'bend', 'horror', 'drama', 'adapt', 'reid', 'novel', 'young', 'woman', 'drive', 'snow', 'faintly', 'menacing', 'boyfriend', 'plemon', 'meet', 'eccentric', 'parent', 'family', 'farm', 'go', 'wrong', 'quite', 'right', 'character', 'clothe', 'age', 'keep', 'change', 'heroine', 'never', 'quite', 'sure', 'name', 'thing', 'really', 'start', 'get', 'weird', 'expect', 'screenwriter', 'rule', 'film', 'narrative', 'sort', 'clever', 'surreal', 'way', 'think', 'end', 'thing', 'ultimately', 'powerfully', 'melancholy', 'treatise', 'brevity', 'life', 'love', 'may', 'confusing', 'undoubtedly', 'move', 'rock', 'direct', 'regularly', 'say', 'much', 'plot', 'dialogue', 'suggest', 'young', 'people', 'meet', 'inner', 'rock', 'authentic', 'teen', 'movie', 'year', 'show', 'difficulty', 'adolescence', 'deprive', 'area', 'laughter', 'bukky', 'star', 'fend', 'young', 'brother', 'mother', 'disappear', 'flat', 'make', 'bad', 'choice', 'good', 'friend', 'heart', 'rend', 'hopeful', 'tribute', 'bravery', 'astounding', 'performance', 'would', 'put', 'front', 'oscar', 'race', 'even', 'role', 'turn', 'sadly', 'last', 'base', 'play', 'story', 'set', 'record', 'session', 'real', 'life', 'blue', 'play', 'brilliantly', 'sly', 'imperious', 'diva', 'traumatise', 'racist', 'attack', 'witness', 'perfectly', 'modulate', 'performance', 'charm', 'dance', 'smile', 'young', 'man', 'future', 'anger', 'finally', 'explode', 'minute', 'performance', 'film', 'alive', 'energy', 'passion']\n",
      "\n",
      "Topic:entertainment \t Score: 0.47\t Topic keywords: 0.024*\"film\" + 0.015*\"good\" + 0.013*\"year\" + 0.011*\"include\" + 0.011*\"music\"\n",
      "Topic:sport \t\t Score: 0.33\t Topic keywords: 0.015*\"say\" + 0.011*\"game\" + 0.010*\"go\" + 0.010*\"play\" + 0.009*\"time\"\n",
      "Topic:politics \t\t Score: 0.14\t Topic keywords: 0.046*\"say\" + 0.018*\"would\" + 0.010*\"government\" + 0.009*\"people\" + 0.007*\"could\"\n",
      "Topic:tech \t\t Score: 0.03\t Topic keywords: 0.018*\"say\" + 0.017*\"use\" + 0.014*\"people\" + 0.010*\"technology\" + 0.008*\"user\"\n",
      "Topic:business \t\t Score: 0.03\t Topic keywords: 0.023*\"say\" + 0.018*\"year\" + 0.013*\"company\" + 0.010*\"firm\" + 0.009*\"rise\"\n"
     ]
    }
   ],
   "source": [
    "#unseen_document = 'Labour plans maternity pay rise\\r\\n\\r\\nMaternity pay for new mothers is to rise by Â as part of new proposals announced by the Trade and Industry Secretary Patricia Hewitt.\\r\\n\\r\\nIt would mean paid leave would be increased to nine months by 2007, Ms Hewitt told GMTV\\'s Sunday programme. Other plans include letting maternity pay be given to fathers and extending rights to parents of older children. The Tories dismissed the maternity pay plan as \\\"desperate\\\", while the Liberal Democrats said it was misdirected.\\r\\n\\r\\nMs Hewitt said: \\\"We have already doubled the length of maternity pay, it was 13 weeks when we were elected, we have already taken it up to 26 weeks. \\\"We are going to extend the pay to nine months by 2007 and the aim is to get it right up to the full 12 months by the end of the next Parliament.\\\" She said new mothers were already entitled to 12 months leave, but that many women could not take it as only six of those months were paid. \\\"We have made a firm commitment. We will definitely extend the maternity pay, from the six months where it now is to nine months, that\\'s the extra Â.\\\" She said ministers would consult on other proposals that could see fathers being allowed to take some of their partner\\'s maternity pay or leave period, or extending the rights of flexible working to carers or parents of older children. The Shadow Secretary of State for the Family, Theresa May, said: \\\"These plans were announced by Gordon Brown in his pre-budget review in December and Tony Blair is now recycling it in his desperate bid to win back women voters.\\\"\\r\\n\\r\\nShe said the Conservatives would announce their proposals closer to the General Election. Liberal Democrat spokeswoman for women Sandra Gidley said: \\\"While mothers would welcome any extra maternity pay the Liberal Democrats feel this money is being misdirected.\\\" She said her party would boost maternity pay in the first six months to allow more women to stay at home in that time.\\r\\n\\r\\nMs Hewitt also stressed the plans would be paid for by taxpayers, not employers. But David Frost, director general of the British Chambers of Commerce, warned that many small firms could be \\\"crippled\\\" by the move. \\\"While the majority of any salary costs may be covered by the government\\'s statutory pay, recruitment costs, advertising costs, retraining costs and the strain on the company will not be,\\\" he said. Further details of the government\\'s plans will be outlined on Monday. New mothers are currently entitled to 90% of average earnings for the first six weeks after giving birth, followed by Â a week until the baby is six months old.\\r\\n'\n",
    "#unseen_document = 'Bitcoin\\'s value surged above $34,000 (Â£24,850) for the first time on Sunday as the leading cryptocurrency continued to soar.\\r\\n\\r\\nIt put the gain this year at almost $5,000, although by 17:00 GMT the price had drifted lower to about $33,000, according to the Coindesk website.\\r\\n\\r\\nThe rise was put down to interest from big investors seeking quick profits.\\r\\n\\r\\nIt comes after Bitcoin soared 300% last year, with the price of many other digital currencies also rising sharply.\\r\\n\\r\\nEthereum, the second biggest cryptocurrency, gained 465% in 2020\\r\\n\\r\\nSome analysts think Bitcoin\\'s value could rise even further as the US dollar drops further.\\r\\n\\r\\nWhile the value of the US currency rose in March at the start of the coronavirus pandemic as investors sought safety amid the uncertainty, it has since dropped due to major stimulus from the US Federal Reserve. The currency ended last year with its biggest annual loss since 2017.\\r\\n\\r\\n    Covid worries help Bitcoin to three-year high\\r\\n    How do cryptocurrencies work?\\r\\n\\r\\nBitcoin is traded in much the same way as real currencies like the US dollar and pound sterling.\\r\\n\\r\\nRecently it has won growing support as a form of payment online, with PayPal among the most recent adopters of digital currencies. \\r\\nBut the cryptocurrency has also proved to be a volatile investment.\\r\\n\\r\\nThe soaring price has raised concerns that Bitcoin is due for a dramatic correction, as happened three years ago when the value collapsed after a bull run.\\r\\n\\r\\nDuring the rally in 2017 Bitcoin came close to breaking through the $20,000 level, only to hit extreme lows and fall below $3,300.\\r\\n\\r\\nIt passed $19,000 in November last year before dropping sharply again.\\r\\n\\r\\n    â€˜Robin Hoodâ€™ hackers giving stolen money to charity\\r\\n    \\'One day everyone will use China\\'s digital currency\\'\\r\\n\\r\\nIn October, Bank of England Governor Andrew Bailey cautioned over Bitcoin\\'s use as a payment method.\\r\\n\\r\\n\\\"I have to be honest, it is hard to see that Bitcoin has what we tend to call intrinsic value,\\\" he said. \\\"It may have extrinsic value in the sense that people want it.\\\"\\r\\n\\r\\nMr Bailey added that he was \\\"very nervous\\\" about people using Bitcoin for payments pointing out that investors should realise its price is extremely volatile.'\n",
    "#unseen_document = 'Technological advances made during the pandemic are an \\\"opportunity as well as a threat\\\" to workers, an expert says.\\r\\n\\r\\nThe use of automation, robotics and artificial intelligence (AI) has grown by 30% since March 2020, according to industry body Technology Connected.\\r\\n\\r\\nA report found this could harm the work prospects of lower paid staff, women, young people and minority groups.\\r\\n\\r\\nBut Cardiff University professor Philip Brown said technology must be used to help shape a better future.\\r\\n\\r\\n\\\"We need to really get a better understanding of how technologies can be used in a way which is positive for the workforce, in a way which is positive for Wales,\\\" said Prof Brown.\\r\\n\\r\\n    AI steps up in battle against Covid-19\\r\\n    Covid could mean more facial recognition tech\\r\\n\\r\\nHe chaired an independent review into digital innovation, the economy and work for the Welsh Government.\\r\\n\\r\\n\\\"It\\'s very difficult to make a judgement about where we are because of course lots of businesses are actually closed and not able to open.\\r\\n\\r\\n\\\"But I think basically we\\'re not in a great position, and I think we really do need to get our act together.\\\"\\r\\n\\\"We\\'ve got to use that opportunity but we\\'ll fail if we actually don\\'t come together around government, business, unions and other stakeholders to really present Wales differently, and really see how can we shift the economy,\\\" he said.\\r\\n\\r\\n\\\"How can we move to create a better future of work for people. Because if we just allow the technologies to determine our fate we are in for a very difficult future.\\\"\\r\\n\\r\\nX-STK is an automation company with offices in Cardiff that offers products and training in the use of \\\"cobots\\\", or collaborative robots.\\r\\n\\r\\nThese cobots are used in a range of industries, from pharmaceuticals to automotive and in universities.\\r\\n\\r\\nThe company has seen a major increase in demand for automation - with people not being able to go to work - to help with reduced numbers of staff and measures such as social distancing.\\r\\n\\r\\nBut does automation inevitably lead to people being replaced? Not according to Jessica Watts from the company.\\r\\n\\\"Output increases, which means higher demand so those people that typically would have been doing the very repetitive, potentially dangerous jobs - you know with RSI [repetitive strain industry] and other things like that - actually, those people go on and be upskilled, and they\\'ve got more rewarding jobs, and they\\'re doing things that have got more value,\\\" she explained.\\r\\n\\r\\nTechnology Connected said nearly 70% of all businesses questioned had increased their use of technology as a result of the pandemic and 48% said it had caused them to evaluate and speed up their adoption of new technology and working practices.\\r\\n\\r\\n\\\"Technology is totally ubiquitous and it\\'s not just in industry,\\\" said managing director Avril Lewis.\\r\\n\\r\\n\\\"Who would have thought that we\\'d be connecting with our loved ones via, you know, Zoom calls or who would have thought that we would be visiting our doctor surgeries remotely, taking photographs on our phones and sending those through for diagnosis.\\r\\n\\r\\n\\\"Who\\'d have thought our children would be educated whilst online at home.\\\"'\n",
    "#unseen_document = 'The Cleveland Browns have secured a play-off spot for the first time since 2002 with a 24-22 win over the Pittsburgh Steelers on the final day of the regular season.\\r\\n\\r\\nNick Chubb and Jarvis Landry each ran for a touchdown and Baker Mayfield threw for another.\\r\\n\\r\\nIt ended the NFL\\'s longest active post-season drought.\\r\\n\\r\\nThe Green Bay Packers clinched the top seed in the NFC Conference while the Tennessee Titans won the AFC South.\\r\\n\\r\\nThe Baltimore Ravens, the Indianapolis Colts, the Los Angeles Rams and the Chicago Bears also qualified for the play-offs, which start on Saturday.\\r\\n\\r\\nWashington took the final play-off spot with a 20-14 victory over the Philadelphia Eagles to win the NFC East division despite a 7-9 record.\\r\\n\\r\\nThey are just the third NFL team to reach the play-offs with a losing record (excluding the strike-shortened 1982 season). The Carolina Panthers were the last to do so in 2014, following the Seattle Seahawks in 2010 - both went on to win their play-off openers.\\r\\n\\r\\nThe Bears lost 35-16 to Green Bay to finish 8-8 but still qualified for the wildcard round because of the Arizona Cardinals\\' 18-7 defeat by the Rams.\\r\\n\\r\\n    As it happened - final Sunday of NFL\\'s regular season\\r\\n    How to follow the 2020-21 season on the BBC\\r\\n\\r\\nThe Browns, three years after an 0-16 campaign, withstood a disrupted week of preparation with their training facility closed for three of the past four days because of Covid-19 issues.\\r\\n\\r\\n\\\"We wanted this. I could see that determination,\\\" Browns coach Kevin Stefanski said. \\\"It\\'s not over. We\\'ve got work left to do. I like how this team responds when their back is up against the wall.\\\"\\r\\nLamar Jackson threw for 113 yards and three touchdowns and ran 11 times for 97 yards as Baltimore beat Cincinnati 38-3 to clinch one of the three wildcard spots in the AFC Conference.\\r\\n\\r\\nHe became the first quarterback in NFL history with back-to-back 1,000-yard rushing seasons while JK Dobbins ran for 160 yards and two touchdowns in the emphatic Ravens victory.\\r\\n\\r\\nThe Titans, who later won 41-38 at the Houston Texans, secured a play-off spot when the Miami Dolphins were beaten 56-26 at the Buffalo Bills.'\n",
    "unseen_document = 'Anyone who has seen The Secret of Kells or Song of the Sea will recognise the Celtic mysticism and the ornate, angular animation favoured by their director, Tomm Moore. But Wolfwalkers is his most delightful yet. Its plucky heroine is Robyn (voiced by Honor Kneafsey), the daughter of an English huntsman (Sean Bean) stationed in Ireland in the mid-1600s. He has the job of clearing the wolves from a forest near Kilkenny, but when Robyn goes exploring, she finds that one of those wolves can transform into a human girl (Eva Whittaker). As firmly rooted as it is in the history and landscape of Ireland, this is a cartoon about magic that actually feels magical. The girls\\' battles against destructive adults are exhilarating fun, and every frame is a work of art. (NB)\\r\\n\\r\\nCharlie Kaufman\\'s mind-bending horror drama is like no other film this year â€“ or any other year, for that matter. Adapted from Iain Reid\\'s novel, it stars the superb Jessie Buckley as a young woman who drives through the snow with her faintly menacing boyfriend, Jesse Plemons, to meet his eccentric parents, Toni Collette and David Thewlis, on their family farm. Nothing goes wrong, but nothing is quite right, either: the characters\\' clothes and ages keep changing, and the heroine is never quite sure of her own name. And then things really start getting weird. As you\\'d expect from the screenwriter of Being John Malkovich and Adaptation, Kaufman twists the rules of film narrative in all sorts of clever and surreal ways, but I\\'m Thinking of Ending Things is ultimately a powerfully melancholy treatise on the brevity of life and love. It may be confusing, but it\\'s undoubtedly moving\\r\\n\\r\\nRocks was directed by Sarah Gavron (Brick Lane, Suffragette) and written by Theresa Ikoko and Claire Wilson, but, as Gavron regularly says, much of its plot and dialogue was suggested by the young people she met in inner-city London. The upshot is that Rocks is the most authentic teen movie in years, showing all the difficulties of adolescence in a deprived area, but all the laughter, warmth and ebullient energy, too. Bukky Bakray stars as a schoolgirl who has to fend for her younger brother (the adorable D\\'angelou Osei Kissiedu) when their mother disappears from their flat. She makes bad choices, but she has good friends. A heart-rending but hopeful tribute to the bravery and resilience of youth. \\r\\n\\r\\nChadwick Boseman\\'s astounding performance would have put him at the front of the Oscar race even if the role hadn\\'t turned out, so sadly, to be his last. Based on August Wilson\\'s play, the story is set in 1924 at a recording session for the real-life blues legend Ma Rainey, played brilliantly as a sly and imperious diva by Viola Davis. Boseman is Levee, a talented musician traumatised by a racist attack he witnessed in childhood. In Boseman\\'s perfectly modulated performance, Levee is a charming, dancing, smiling young man with a future, whose anger finally explodes. Every minute of his performance and of this film is alive with energy and passion.'\n",
    "\n",
    "\n",
    "test_document(unseen_document)"
   ]
  }
 ],
 "metadata": {
  "kernelspec": {
   "display_name": "Python 3",
   "language": "python",
   "name": "python3"
  },
  "language_info": {
   "codemirror_mode": {
    "name": "ipython",
    "version": 3
   },
   "file_extension": ".py",
   "mimetype": "text/x-python",
   "name": "python",
   "nbconvert_exporter": "python",
   "pygments_lexer": "ipython3",
   "version": "3.8.3"
  }
 },
 "nbformat": 4,
 "nbformat_minor": 4
}
